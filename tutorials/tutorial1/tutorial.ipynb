{
 "cells": [
  {
   "attachments": {},
   "cell_type": "markdown",
   "id": "6f71ca5c",
   "metadata": {},
   "source": [
    "# Tutorial: Introductory Tutorial:  Physics Informed Neural Networks with PINA \n",
    "[![Open In Colab](https://colab.research.google.com/assets/colab-badge.svg)](https://colab.research.google.com/github/mathLab/PINA/blob/master/tutorials/tutorial1/tutorial.ipynb)\n",
    "\n",
    "> ##### ⚠️ ***Before starting:***\n",
    "> We assume you are already familiar with the concepts covered in the [Getting started with PINA](https://mathlab.github.io/PINA/_tutorial.html#getting-started-with-pina) tutorials. If not, we strongly recommend reviewing them before exploring this advanced topic.\n"
   ]
  },
  {
   "attachments": {},
   "cell_type": "markdown",
   "id": "ef4949c9",
   "metadata": {},
   "source": [
    "In this tutorial, we will demonstrate a typical use case of **PINA** for Physics Informed Neural Network (PINN) training. We will cover the basics of training a PINN with PINA, if you want to go further into PINNs look at our dedicated [tutorials](https://mathlab.github.io/PINA/_tutorial.html#physics-informed-neural-networks) on the topic.\n",
    "\n",
    "Let's start by importing the useful modules:"
   ]
  },
  {
   "cell_type": "code",
   "execution_count": null,
   "id": "86478a84",
   "metadata": {},
   "outputs": [],
   "source": [
    "## routine needed to run the notebook on Google Colab\n",
    "try:\n",
    "    import google.colab\n",
    "\n",
    "    IN_COLAB = True\n",
    "except:\n",
    "    IN_COLAB = False\n",
    "if IN_COLAB:\n",
    "    !pip install \"pina-mathlab[tutorial]\"\n",
    "\n",
    "import warnings\n",
    "import torch\n",
    "import matplotlib.pyplot as plt\n",
    "\n",
    "from pina import Trainer, Condition\n",
    "from pina.problem import SpatialProblem\n",
    "from pina.operator import grad\n",
    "from pina.solver import PINN\n",
    "from pina.model import FeedForward\n",
    "from pina.optim import TorchOptimizer\n",
    "from pina.domain import CartesianDomain\n",
    "from pina.callback import MetricTracker\n",
    "from pina.equation import Equation, FixedValue\n",
    "\n",
    "warnings.filterwarnings(\"ignore\")"
   ]
  },
  {
   "attachments": {},
   "cell_type": "markdown",
   "id": "8a819659",
   "metadata": {},
   "source": [
    "## Build the problem\n",
    "\n",
    "We will use a simple Ordinary Differential Equation as pedagogical example:\n",
    "\n",
    "$$\n",
    "\\begin{equation}\n",
    "\\begin{cases}\n",
    "\\frac{d}{dx}u(x) &=  u(x) \\quad x\\in(0,1)\\\\\n",
    "u(x=0) &= 1 \\\\\n",
    "\\end{cases}\n",
    "\\end{equation}\n",
    "$$\n",
    "\n",
    "with the analytical solution $u(x) = e^x$. \n",
    "\n",
    "The PINA problem is easly written as:"
   ]
  },
  {
   "cell_type": "code",
   "execution_count": 2,
   "id": "f2608e2e",
   "metadata": {},
   "outputs": [],
   "source": [
    "def ode_equation(input_, output_):\n",
    "    u_x = grad(output_, input_, components=[\"u\"], d=[\"x\"])\n",
    "    u = output_.extract([\"u\"])\n",
    "    return u_x - u\n",
    "\n",
    "\n",
    "class SimpleODE(SpatialProblem):\n",
    "\n",
    "    output_variables = [\"u\"]\n",
    "    spatial_domain = CartesianDomain({\"x\": [0, 1]})\n",
    "\n",
    "    domains = {\n",
    "        \"x0\": CartesianDomain({\"x\": 0.0}),\n",
    "        \"D\": CartesianDomain({\"x\": [0, 1]}),\n",
    "    }\n",
    "\n",
    "    conditions = {\n",
    "        \"bound_cond\": Condition(domain=\"x0\", equation=FixedValue(1.0)),\n",
    "        \"phys_cond\": Condition(domain=\"D\", equation=Equation(ode_equation)),\n",
    "    }\n",
    "\n",
    "    def solution(self, pts):\n",
    "        return torch.exp(pts.extract([\"x\"]))\n",
    "\n",
    "\n",
    "problem = SimpleODE()"
   ]
  },
  {
   "attachments": {},
   "cell_type": "markdown",
   "id": "7cf64d01",
   "metadata": {},
   "source": [
    "We are going to use latin hypercube points for sampling. We need to sample in all the conditions domains. In our case we sample in domain `D` and `x0`:"
   ]
  },
  {
   "cell_type": "code",
   "execution_count": 3,
   "id": "622f705c",
   "metadata": {},
   "outputs": [],
   "source": [
    "# sampling for training\n",
    "problem.discretise_domain(1, \"lh\", domains=[\"x0\"])\n",
    "problem.discretise_domain(20, \"lh\", domains=[\"D\"])"
   ]
  },
  {
   "attachments": {},
   "cell_type": "markdown",
   "id": "78b30f95",
   "metadata": {},
   "source": [
    "## Generate data \n",
    "\n",
    "Data for training can come in form of direct numerical simulation results, or points in the domains. In case we perform unsupervised learning, we just need the collocation points for training, i.e. points where we want to evaluate the neural network. Sampling point in **PINA** is very easy, here we show three examples using the `.discretise_domain` method of the `AbstractProblem` class."
   ]
  },
  {
   "cell_type": "code",
   "execution_count": 4,
   "id": "09ce5c3a",
   "metadata": {},
   "outputs": [],
   "source": [
    "# sampling 20 points in [0, 1] through discretization in all locations\n",
    "problem.discretise_domain(n=20, mode=\"grid\", domains=\"all\")\n",
    "\n",
    "# sampling 20 points in (0, 1) through latin hypercube sampling in D, and 1 point in x0\n",
    "problem.discretise_domain(n=20, mode=\"latin\", domains=[\"D\"])\n",
    "problem.discretise_domain(n=1, mode=\"random\", domains=[\"x0\"])\n",
    "\n",
    "# sampling 20 points in (0, 1) randomly\n",
    "problem.discretise_domain(n=20, mode=\"random\")"
   ]
  },
  {
   "cell_type": "markdown",
   "id": "8fbb679f",
   "metadata": {},
   "source": [
    "We are going to use latin hypercube points for sampling. We need to sample in all the conditions domains. In our case we sample in `D` and `x0`."
   ]
  },
  {
   "cell_type": "code",
   "execution_count": 5,
   "id": "329962b6",
   "metadata": {},
   "outputs": [],
   "source": [
    "# sampling for training\n",
    "problem.discretise_domain(1, \"random\", domains=[\"x0\"])\n",
    "problem.discretise_domain(20, \"lh\", domains=[\"D\"])"
   ]
  },
  {
   "cell_type": "markdown",
   "id": "669e8534",
   "metadata": {},
   "source": [
    "To visualize the sampled points we can use `matplotlib.pyplot`:"
   ]
  },
  {
   "cell_type": "code",
   "execution_count": 6,
   "id": "3802e22a",
   "metadata": {},
   "outputs": [
    {
     "data": {
      "image/png": "[encoded data removed]",
      "text/plain": [
       "<Figure size 640x480 with 1 Axes>"
      ]
     },
     "metadata": {},
     "output_type": "display_data"
    }
   ],
   "source": [
    "for location in problem.input_pts:\n",
    "    coords = (\n",
    "        problem.input_pts[location].extract(problem.spatial_variables).flatten()\n",
    "    )\n",
    "    plt.scatter(coords, torch.zeros_like(coords), s=10, label=location)\n",
    "_ = plt.legend()"
   ]
  },
  {
   "attachments": {},
   "cell_type": "markdown",
   "id": "22e502dd",
   "metadata": {},
   "source": [
    "## Easily solve a Physics Problem with three step pipeline"
   ]
  },
  {
   "attachments": {},
   "cell_type": "markdown",
   "id": "075f43f5",
   "metadata": {},
   "source": [
    "Once the problem is defined and the data is generated, we can move on to modeling. This process consists of three key steps:\n",
    "\n",
    "**Choosing a Model**\n",
    "- Select a neural network architecture. You can use the model we provide in the `pina.model` module (see [here](https://mathlab.github.io/PINA/_rst/_code.html#models) for a full list), or define a custom PyTorch module (more on this [here](https://pytorch.org/docs/stable/notes/modules.html)).\n",
    "\n",
    "**Choosing a PINN Solver & Defining the Trainer**\n",
    "* Use a Physics Informed solver from `pina.solver` module to solve the problem using the specified model. We have already implemented most State-Of-The-Arte solvers for you, [have a look](https://mathlab.github.io/PINA/_rst/_code.html#solvers) if interested. Today we will use the standard `PINN` solver.\n",
    "\n",
    "**Training**\n",
    "* Train the model with the [`Trainer`](https://mathlab.github.io/PINA/_rst/trainer.html) class. The Trainer class provides powerful features to enhance model accuracy, optimize training time and memory, and simplify logging and visualization, thanks to PyTorch Lightning's excellent work, see [our dedicated tutorial](https://mathlab.github.io/PINA/tutorial11/tutorial.html) for further details. By default, training metrics (e.g., MSE error) are logged using a lightning logger (CSVLogger). If you prefer manual tracking, use `pina.callback.MetricTracker`.\n",
    "\n",
    "Let's cover all steps one by one!\n",
    "\n",
    "First we build the model, in this case a FeedForward neural network, with two layers of size 10 and hyperbolic tangent activation:"
   ]
  },
  {
   "cell_type": "code",
   "execution_count": 7,
   "id": "3bb4dc9b",
   "metadata": {},
   "outputs": [],
   "source": [
    "# build the model\n",
    "model = FeedForward(\n",
    "    layers=[10, 10],\n",
    "    func=torch.nn.Tanh,\n",
    "    output_dimensions=len(problem.output_variables),\n",
    "    input_dimensions=len(problem.input_variables),\n",
    ")"
   ]
  },
  {
   "cell_type": "markdown",
   "id": "c3b92328",
   "metadata": {},
   "source": [
    "Then we build the solver. The Physics-Informed Neural Network (`PINN`) solver class needs to be initialised with a `model` and a specific `problem` to be solved. They also take extra arguments, as the optimizer, scheduler, loss type and weighting for the different conditions which are all set to their defualt values.\n",
    "\n",
    ">##### 💡***Bonus tip:***\n",
    "> All physics solvers in PINA can handle both forward and inverse problems without requiring any changes to the model or solver structure! See [our tutorial](https://mathlab.github.io/PINA/tutorial7/tutorial.html) of inverse problems for more infos."
   ]
  },
  {
   "cell_type": "code",
   "execution_count": 8,
   "id": "f5127744",
   "metadata": {},
   "outputs": [],
   "source": [
    "# create the PINN object with RAdam Optimizer, notice that Optimizer need to\n",
    "# be wrapped with the pina.optim.TorchOptimizer class\n",
    "pinn = PINN(problem, model, TorchOptimizer(torch.optim.RAdam, lr=0.005))"
   ]
  },
  {
   "cell_type": "markdown",
   "id": "c5d877cc",
   "metadata": {},
   "source": [
    "Finally, we train the model using the Trainer API. The trainer offers various options to customize your training, refer to the official documentation for details. Here, we highlight the `MetricTracker` from `pina.callback`, which helps track metrics during training. In order to train just call the `.train()` method.\n",
    "\n",
    "> ##### ⚠️ ***Important Note:***\n",
    "> In PINA you can log metrics in different ways. The simplest approach is to use the `MetricTraker` class from `pina.callbacks` as we will see today. However, expecially when we need to train multiple times to get an average of the loss across multiple runs, we suggest to use `lightning.pytorch.loggers` (see [here](https://lightning.ai/docs/pytorch/stable/extensions/logging.html) for reference).\n"
   ]
  },
  {
   "cell_type": "code",
   "execution_count": 9,
   "id": "582a843e",
   "metadata": {},
   "outputs": [
    {
     "name": "stderr",
     "output_type": "stream",
     "text": [
      "GPU available: True (mps), used: False\n",
      "TPU available: False, using: 0 TPU cores\n",
      "HPU available: False, using: 0 HPUs\n"
     ]
    },
    {
     "data": {
      "application/vnd.jupyter.widget-view+json": {
       "model_id": "80c2ef11b8534949abcc7a01b36f1094",
       "version_major": 2,
       "version_minor": 0
      },
      "text/plain": [
       "Training: |          | 0/? [00:00<?, ?it/s]"
      ]
     },
     "metadata": {},
     "output_type": "display_data"
    },
    {
     "name": "stderr",
     "output_type": "stream",
     "text": [
      "`Trainer.fit` stopped: `max_epochs=1500` reached.\n"
     ]
    }
   ],
   "source": [
    "# create the trainer\n",
    "trainer = Trainer(\n",
    "    solver=pinn,  # The PINN solver to be used for training\n",
    "    max_epochs=1500,  # Maximum number of training epochs\n",
    "    logger=True,  # Enables logging (default logger is CSVLogger)\n",
    "    callbacks=[MetricTracker()],  # Tracks training metrics using MetricTracker\n",
    "    accelerator=\"cpu\",  # Specifies the computing device (\"cpu\", \"gpu\", ...)\n",
    "    train_size=1.0,  # Fraction of the dataset used for training (100%)\n",
    "    test_size=0.0,  # Fraction of the dataset used for testing (0%)\n",
    "    val_size=0.0,  # Fraction of the dataset used for validation (0%)\n",
    "    enable_model_summary=False,  # Disables model summary printing\n",
    ")\n",
    "\n",
    "# train\n",
    "trainer.train()"
   ]
  },
  {
   "cell_type": "markdown",
   "id": "f8b4f496",
   "metadata": {},
   "source": [
    "After the training we can inspect trainer logged metrics (by default **PINA** logs mean square error residual loss). The logged metrics can be accessed online using one of the `Lightning` loggers. The final loss can be accessed by `trainer.logged_metrics`"
   ]
  },
  {
   "cell_type": "code",
   "execution_count": 10,
   "id": "f5fbf362",
   "metadata": {},
   "outputs": [
    {
     "data": {
      "text/plain": [
       "{'bound_cond_loss': tensor(8.7332e-08),\n",
       " 'phys_cond_loss': tensor(4.1401e-05),\n",
       " 'train_loss': tensor(4.1489e-05)}"
      ]
     },
     "execution_count": 10,
     "metadata": {},
     "output_type": "execute_result"
    }
   ],
   "source": [
    "# inspecting final loss\n",
    "trainer.logged_metrics"
   ]
  },
  {
   "cell_type": "markdown",
   "id": "0963d7d2",
   "metadata": {},
   "source": [
    "By using `matplotlib` we can also do some qualitative plots of the solution. "
   ]
  },
  {
   "cell_type": "code",
   "execution_count": 11,
   "id": "ffbf0d5e",
   "metadata": {},
   "outputs": [
    {
     "data": {
      "image/png": "[encoded data removed]",
      "text/plain": [
       "<Figure size 640x480 with 1 Axes>"
      ]
     },
     "metadata": {},
     "output_type": "display_data"
    }
   ],
   "source": [
    "pts = pinn.problem.spatial_domain.sample(256, \"grid\", variables=\"x\")\n",
    "predicted_output = pinn.forward(pts).extract(\"u\").tensor.detach()\n",
    "true_output = pinn.problem.solution(pts).detach()\n",
    "fig, ax = plt.subplots(nrows=1, ncols=1)\n",
    "ax.plot(pts.extract([\"x\"]), predicted_output, label=\"Neural Network solution\")\n",
    "ax.plot(pts.extract([\"x\"]), true_output, label=\"True solution\")\n",
    "_ = plt.legend()"
   ]
  },
  {
   "cell_type": "markdown",
   "id": "bf47b98a",
   "metadata": {},
   "source": [
    "The solution is overlapped with the actual one, and they are barely indistinguishable. We can also visualize the loss during training using the `MetricTracker`:"
   ]
  },
  {
   "cell_type": "code",
   "execution_count": 12,
   "id": "03398692",
   "metadata": {},
   "outputs": [
    {
     "data": {
      "image/png": "[encoded data removed]",
      "text/plain": [
       "<Figure size 640x480 with 1 Axes>"
      ]
     },
     "metadata": {},
     "output_type": "display_data"
    }
   ],
   "source": [
    "# plot loss\n",
    "trainer_metrics = trainer.callbacks[0].metrics\n",
    "loss = trainer_metrics[\"train_loss\"]\n",
    "epochs = range(len(loss))\n",
    "plt.plot(epochs, loss.cpu())\n",
    "# plotting\n",
    "plt.xlabel(\"epoch\")\n",
    "plt.ylabel(\"loss\")\n",
    "plt.yscale(\"log\")"
   ]
  },
  {
   "cell_type": "markdown",
   "id": "33e672da",
   "metadata": {},
   "source": [
    "## What's Next?\n",
    "\n",
    "Congratulations on completing the introductory tutorial on Physics-Informed Training! Now that you have a solid foundation, here are several exciting directions you can explore:\n",
    "\n",
    "1. **Experiment with Training Duration & Network Architecture**: Try different training durations and tweak the network architecture to optimize performance.\n",
    "\n",
    "2. **Explore Other Models in `pina.model`**: Check out other models available in `pina.model` or design your own custom PyTorch module to suit your needs.\n",
    "\n",
    "3. **Run Training on a GPU**: Speed up your training by running on a GPU and compare the performance improvements.\n",
    "\n",
    "4. **Test Various Solvers**: Explore and evaluate different solvers to assess their performance on various types of problems.\n",
    "\n",
    "5. **... and many more!**: The possibilities are vast! Continue experimenting with advanced configurations, solvers, and other features in PINA.\n",
    "\n",
    "For more resources and tutorials, check out the [PINA Documentation](https://mathlab.github.io/PINA/)."
   ]
  }
 ],
 "metadata": {
  "kernelspec": {
   "display_name": "pina",
   "language": "python",
   "name": "python3"
  },
  "language_info": {
   "codemirror_mode": {
    "name": "ipython",
    "version": 3
   },
   "file_extension": ".py",
   "mimetype": "text/x-python",
   "name": "python",
   "nbconvert_exporter": "python",
   "pygments_lexer": "ipython3",
   "version": "3.9.21"
  }
 },
 "nbformat": 4,
 "nbformat_minor": 5
}
