{
 "cells": [
  {
   "attachments": {},
   "cell_type": "markdown",
   "id": "6f71ca5c",
   "metadata": {},
   "source": [
    "# Tutorial: How to build a Problem in PINA\n",
    "\n",
    "[![Open In Colab](https://colab.research.google.com/assets/colab-badge.svg)](https://colab.research.google.com/github/mathLab/PINA/blob/master/tutorials/tutorial16/tutorial.ipynb)\n"
   ]
  },
  {
   "attachments": {},
   "cell_type": "markdown",
   "id": "ef4949c9",
   "metadata": {},
   "source": [
    "In this tutorial, we will demonstrate how to build a **Problem** in **PINA** using a toy example. The tutorial will cover the following topics:\n",
    "\n",
    "- **Building a Problem**: Learn how to construct a problem using the built-in PINA classes.\n",
    "- **Generating Data for Physics-Informed Training**: Understand how to generate the necessary data for training.\n",
    "- **Exploring the `problem.zoo` Module**: Get familiar with the `problem.zoo` module, which collects pre-built problems for easy use.\n",
    "\n",
    "By the end of this tutorial, you'll be able to write **data-driven** or **differential problems** in **PINA** and prepare them for model training!"
   ]
  },
  {
   "cell_type": "code",
   "execution_count": 2,
   "id": "014bbd86",
   "metadata": {},
   "outputs": [],
   "source": [
    "## routine needed to run the notebook on Google Colab\n",
    "try:\n",
    "    import google.colab\n",
    "\n",
    "    IN_COLAB = True\n",
    "except:\n",
    "    IN_COLAB = False\n",
    "if IN_COLAB:\n",
    "    !pip install \"pina-mathlab\"\n",
    "\n",
    "import warnings\n",
    "import torch\n",
    "import matplotlib.pyplot as plt\n",
    "\n",
    "warnings.filterwarnings(\"ignore\")"
   ]
  },
  {
   "attachments": {},
   "cell_type": "markdown",
   "id": "cf9c96e3",
   "metadata": {},
   "source": [
    "## Build a PINA problem"
   ]
  },
  {
   "cell_type": "markdown",
   "id": "46ba1d43",
   "metadata": {},
   "source": [
    "In **PINA**, defining a problem is done by creating a Python `class` that inherits from one or more problem classes, such as `SpatialProblem`, `TimeDependentProblem`, or `ParametricProblem`, depending on the nature of the problem. We refer to the `model` as the object that solves the problem, e.g., a **Neural Network**.\n",
    "\n",
    "We can have two types of problems:\n",
    "1. ***Data-Driven Problems***: The model is trained using data, such as in classification networks or autoencoders.\n",
    "2. **&Physics-Driven Problems***: The model is trained using physical laws representing the problem, such as in **PINNs**.\n",
    "Let's start by building the first type, the data driven type. \n",
    "\n",
    "### Data driven modelling\n",
    "In data-driven modelling, we always have an **input** and a **target**. The model's objective is to reconstruct the target from the input. Examples include:\n",
    "- Image reconstruction (perturbed image as input, clear image as target)\n",
    "- Classification (e.g., input: molecule, target: chemical properties)\n",
    "\n",
    "To build a data-driven problem in **PINA**, you can inherit from the `AbstractProblem` class. Below is an example of a regression problem where the input is a scalar value `x` and the target is a scalar value `y`.\n",
    "\n",
    "```python\n",
    "from pina.problem import AbstractProblem\n",
    "\n",
    "class SupervisedProblem(AbstractProblem):\n",
    "    \n",
    "    input_variables = ['x']\n",
    "    output_variables = ['y']\n",
    "\n",
    "    # other stuff ...\n",
    "```\n",
    "Observe that we define `input_variables` and `output_variables` as lists of symbols. This is because, in PINA, `torch.Tensors` can be labeled (see [`LabelTensor`](https://mathlab.github.io/PINA/_rst/label_tensor.html)), providing maximum flexibility for tensor manipulation. If you prefer to use regular tensors, you can simply set these to ``None``.\n",
    "\n",
    "To specify the input and target data, you need to use the [`Condition`](https://mathlab.github.io/PINA/_rst/condition/condition.html) interface. A condition defines the constraints (such as physical equations, boundary conditions, etc.) that must be satisfied within the problem. Once the condition is applied, the full problem is outlined below:"
   ]
  },
  {
   "cell_type": "code",
   "execution_count": 3,
   "id": "464d4ab2",
   "metadata": {},
   "outputs": [],
   "source": [
    "from pina import Condition, LabelTensor\n",
    "from pina.problem import AbstractProblem\n",
    "\n",
    "# creating some fictitious data\n",
    "input_1 = LabelTensor(torch.randn(10, 1), \"x\")  # <== input_variables\n",
    "input_2 = LabelTensor(torch.randn(10, 1), \"x\")  # <== input_variables\n",
    "target_1 = LabelTensor(torch.randn(10, 1), \"y\") # <== output_variables\n",
    "target_2 = LabelTensor(torch.randn(10, 1), \"y\") # <== output_variables\n",
    "\n",
    "class SupervisedProblem(AbstractProblem):\n",
    "    \n",
    "    input_variables = ['x']\n",
    "    output_variables = ['y']\n",
    "\n",
    "    conditions = {\n",
    "        \"condition_1\": Condition(input=input_1, target=target_1),\n",
    "        \"condition_2\": Condition(input=input_2, target=target_2),\n",
    "    }\n",
    "\n",
    "problem = SupervisedProblem()"
   ]
  },
  {
   "cell_type": "markdown",
   "id": "d27c1341",
   "metadata": {},
   "source": [
    "You can define as many conditions as needed, and the model will attempt to minimize all of them simultaneously! You can access the data in various ways:\n",
    "\n",
    "- `problem.conditions['<condition name>'].input`, `problem.conditions['<condition name>'].output` – Access the input and output data for the specified condition `<condition name>`.\n",
    "- `problem.input_pts` – Access the input points for all conditions.\n",
    "\n",
    "To ensure that the problem is ready, you can check if all domains have been discretized, meaning all conditions have input points available to pass to the model:"
   ]
  },
  {
   "cell_type": "code",
   "execution_count": 4,
   "id": "5bd8397e",
   "metadata": {},
   "outputs": [
    {
     "data": {
      "text/plain": [
       "True"
      ]
     },
     "execution_count": 4,
     "metadata": {},
     "output_type": "execute_result"
    }
   ],
   "source": [
    "# check if all domains are discretised\n",
    "problem.are_all_domains_discretised"
   ]
  },
  {
   "cell_type": "markdown",
   "id": "59d80694",
   "metadata": {},
   "source": [
    ">👉 **You can use multiple data structures in PINA conditions, including `Graph` or `Data` from `PyG`. To explore the different data structures available in PINA, check out [this tutorial](), and for more information on input-target conditions, visit the conditions factory classes [here](https://mathlab.github.io/PINA/_rst/condition/input_target_condition.html)**."
   ]
  },
  {
   "attachments": {},
   "cell_type": "markdown",
   "id": "8a819659",
   "metadata": {},
   "source": [
    "### Simple Ordinary Differential Equation\n",
    "What if we don't have data but we know the physical laws that define the data? Then physics-informed training is the solution! As an example, consider the following Ordinary Differential Equation (ODE):\n",
    "\n",
    "$$\n",
    "\\begin{equation}\n",
    "\\begin{cases}\n",
    "\\frac{d}{dx}u(x) &=  u(x) \\quad x\\in(0,1)\\\\\n",
    "u(x=0) &= 1 \\\\\n",
    "\\end{cases}\n",
    "\\end{equation}\n",
    "$$\n",
    "\n",
    "with the analytical solution $u(x) = e^x$. This problem is a spatial problem because the ODE depends only on the spatial variable $x\\in(0,1)$. In PINA, differential problems are categorized by their nature, e.g.:\n",
    "* `SpatialProblem` $\\rightarrow$ a differential equation with spatial variable(s)\n",
    "* `TimeDependentProblem` $\\rightarrow$ a time-dependent differential equation with temporal variable(s)\n",
    "* `ParametricProblem` $\\rightarrow$ a parametrized differential equation with parametric variable(s)\n",
    "* `InverseProblem` $\\rightarrow$ this is a more advanced topic, see [this tutorial](https://mathlab.github.io/PINA/tutorial7/tutorial.html) for more details.\n",
    "\n",
    "In our case, the physical ODE inherits from the `SpatialProblem` class, since only spatial variables define the ODE.\n",
    "\n",
    "```python\n",
    "class SimpleODE(SpatialProblem):\n",
    "    \n",
    "    output_variables = ['u']\n",
    "    spatial_domain = CartesianDomain{'x': [0, 1]})\n",
    "\n",
    "    # other stuff ...\n",
    "```\n",
    "\n",
    "What if our equation is was also time-dependent, e.g. Partial Differential Equations (PDE)? In this case, our `class` will inherit from both `SpatialProblem` and `TimeDependentProblem`:\n",
    "\n",
    "\n",
    "```python\n",
    "class TimeSpaceODE(SpatialProblem, TimeDependentProblem):\n",
    "\n",
    "    output_variables = [\"u\"]\n",
    "    spatial_domain = CartesianDomain({\"x\": [0, 1]})\n",
    "    temporal_domain = CartesianDomain({\"t\": [0, 1]})\n",
    "\n",
    "    # other stuff ...\n",
    "```\n",
    "\n",
    "Differently from data-driven problems, differential-problems need to specify the domain type. If you look at our ODE definition, the spatial varibale $x$ is defined in the interval $(0,1)$, and accordingly the `spatial_domain` is a `CartesianDomain` with the input variable `x` in `[0,1]`. To know more about the Domain class see the [related tutorial](https://mathlab.github.io/PINA/tutorial6/tutorial.html). Different problems require different domain, here below we summarize the relevant ones:\n",
    "\n",
    "| Problem Type            | Required Domain                |\n",
    "|-------------------------|--------------------------------|\n",
    "| `SpatialProblem`        | `spatial_domain`              |\n",
    "| `TimeDependentProblem`  | `temporal_domain`             |\n",
    "| `ParametricProblem`     | `parameter_domain`            |\n",
    "| `InverseProblem`        | `unknown_parameter_domain`    |"
   ]
  },
  {
   "attachments": {},
   "cell_type": "markdown",
   "id": "592a4c43",
   "metadata": {},
   "source": [
    "Nice, the Problem class is initialized! How to represent the differential equation in **PINA**? To do this, we need to load the **PINA** operators from `pina.operator` module. Again, we'll consider Equation (1) and represent it in **PINA**:"
   ]
  },
  {
   "cell_type": "code",
   "execution_count": 5,
   "id": "f2608e2e",
   "metadata": {},
   "outputs": [],
   "source": [
    "from pina.problem import SpatialProblem\n",
    "from pina.operator import grad\n",
    "from pina.domain import CartesianDomain\n",
    "from pina.equation import Equation, FixedValue\n",
    "\n",
    "\n",
    "# defining the ode equation\n",
    "def ode_equation(input_, output_):\n",
    "\n",
    "    # computing the derivative\n",
    "    u_x = grad(output_, input_, components=[\"u\"], d=[\"x\"])\n",
    "\n",
    "    # extracting the u input variable\n",
    "    u = output_.extract([\"u\"])\n",
    "\n",
    "    # calculate the residual and return it\n",
    "    return u_x - u\n",
    "\n",
    "\n",
    "class SimpleODE(SpatialProblem):\n",
    "\n",
    "    output_variables = [\"u\"]\n",
    "    spatial_domain = CartesianDomain({\"x\": [0, 1]})\n",
    "\n",
    "    domains = {\n",
    "        \"x0\": CartesianDomain({\"x\": 0.0}),\n",
    "        \"D\": CartesianDomain({\"x\": [0, 1]}),\n",
    "    }\n",
    "\n",
    "    # conditions to hold\n",
    "    conditions = {\n",
    "        \"bound_cond\": Condition(domain=\"x0\", equation=FixedValue(1.0)),\n",
    "        \"phys_cond\": Condition(domain=\"D\", equation=Equation(ode_equation)),\n",
    "    }\n",
    "\n",
    "    # defining the true solution\n",
    "    def solution(self, pts):\n",
    "        return torch.exp(pts.extract([\"x\"]))"
   ]
  },
  {
   "attachments": {},
   "cell_type": "markdown",
   "id": "7cf64d01",
   "metadata": {},
   "source": [
    "As you can see, we implemented the `ode_equation` function which given the model ouput and input returns the equation residual. These residuals are the ones minimized during PINN optimization (for more on PINN see [the related tutorials](https://mathlab.github.io/PINA/_tutorial.html#physics-informed-neural-networks)). \n",
    "\n",
    "How are the residuals computed?\n",
    "Givem the output we perform differential operation using the [operator modulus](https://mathlab.github.io/PINA/_rst/operator.html). It is pretty intuitive, each differential operator takes the following inputs: \n",
    "- A tensor on which the operator is applied. \n",
    "- A tensor with respect to which the operator is computed. \n",
    "- The names of the output variables for which the operator is evaluated. \n",
    "- The names of the variables with respect to which the operator is computed.\n",
    "We also have a `fast` version of differential operators, where no checks are performed. This can be used to boost performances, once you know the standard ones are doing their job. \n",
    "\n",
    "Notice that we do not pass directly a `python` function, but an `Equation` object, which is initialized with the `python` function. This is done so that all the computations and internal checks are done inside **PINA**, see [the related tutorials](https://mathlab.github.io/PINA/tutorial12/tutorial.html) for more.\n",
    "\n",
    "Once we have defined the function, we need to tell the neural network where these methods are to be applied. To do so, we use again the `Condition` class. In the `Condition` class, we pass the location points and the equation we want minimized on those points.\n",
    "\n",
    "Finally, it's possible to define a `solution` function, which can be useful if we want to plot the results and see how the real solution compares to the expected (true) solution. Notice that the `solution` function is a method of the `Problem` class, but it is not mandatory for problem definition.\n"
   ]
  },
  {
   "attachments": {},
   "cell_type": "markdown",
   "id": "78b30f95",
   "metadata": {},
   "source": [
    "## Generate data for Physical Problems\n",
    "\n",
    "When training physics based models, data can come in form of direct numerical simulation results (tensors, graph), or points in the domains which need to be sampled. In case we perform unsupervised learning, we just need the collocation points for training, i.e. points where we want to evaluate the neural network. Sampling point in **PINA** is very easy. But first, let's check if the domains are dicsretized by using the `are_all_domains_discretised` method."
   ]
  },
  {
   "cell_type": "code",
   "execution_count": 16,
   "id": "a561b984",
   "metadata": {},
   "outputs": [
    {
     "data": {
      "text/plain": [
       "False"
      ]
     },
     "execution_count": 16,
     "metadata": {},
     "output_type": "execute_result"
    }
   ],
   "source": [
    "problem = SimpleODE()\n",
    "problem.are_all_domains_discretised"
   ]
  },
  {
   "cell_type": "markdown",
   "id": "ff0852f9",
   "metadata": {},
   "source": [
    "This is false becase the input points are not available (we need to discretize!). If you call `problem.input_points` at this stage you will get an error due to point missing in the condition.\n",
    "\n",
    "```bash\n",
    ">>> problem.input_pts\n",
    "```\n",
    "```python\n",
    "---------------------------------------------------------------------------\n",
    "KeyError                                  Traceback (most recent call last)\n",
    "Cell In[32], line 1\n",
    "----> 1 problem.input_pts\n",
    "\n",
    "File ~/GitHub/PINA/pina/problem/abstract_problem.py:78, in AbstractProblem.input_pts(self)\n",
    "     76         to_return[cond_name] = cond.input\n",
    "     77     elif hasattr(cond, \"domain\"):\n",
    "---> 78         to_return[cond_name] = self._discretised_domains[cond.domain]\n",
    "     79 return to_return\n",
    "\n",
    "KeyError: 'x0'\n",
    "```"
   ]
  },
  {
   "cell_type": "markdown",
   "id": "db601e90",
   "metadata": {},
   "source": [
    "To discretise the problem you can use the `discretise_domain` method:"
   ]
  },
  {
   "cell_type": "code",
   "execution_count": 25,
   "id": "09ce5c3a",
   "metadata": {},
   "outputs": [],
   "source": [
    "# sampling 20 points in [0, 1] through discretization in all locations\n",
    "problem.discretise_domain(n=20, mode=\"grid\", domains=\"all\")\n",
    "\n",
    "# sampling 20 points in (0, 1) through latin hypercube sampling in D, and 1 point in x0\n",
    "problem.discretise_domain(n=20, mode=\"latin\", domains=[\"D\"])\n",
    "problem.discretise_domain(n=1, mode=\"random\", domains=[\"x0\"])\n",
    "\n",
    "# sampling 20 points in (0, 1) randomly\n",
    "problem.discretise_domain(n=20, mode=\"random\")"
   ]
  },
  {
   "cell_type": "markdown",
   "id": "8fbb679f",
   "metadata": {},
   "source": [
    "We are going to use latin hypercube points for sampling. We need to sample in all the conditions domains. In our case we sample in `D` and `x0`."
   ]
  },
  {
   "cell_type": "code",
   "execution_count": 26,
   "id": "329962b6",
   "metadata": {},
   "outputs": [],
   "source": [
    "# sampling for training\n",
    "problem.discretise_domain(1, \"random\", domains=[\"x0\"])\n",
    "problem.discretise_domain(5, \"lh\", domains=[\"D\"])"
   ]
  },
  {
   "cell_type": "markdown",
   "id": "ca2ac5c2",
   "metadata": {},
   "source": [
    "The points are saved in a python `dict`, and can be accessed by calling the attributes `input_pts` or `discretised_domains` of the problem."
   ]
  },
  {
   "cell_type": "code",
   "execution_count": 29,
   "id": "d6ed9aaf",
   "metadata": {},
   "outputs": [
    {
     "name": "stdout",
     "output_type": "stream",
     "text": [
      "Input points: {'bound_cond': LabelTensor([[0.]]), 'phys_cond': LabelTensor([[0.5744],\n",
      "             [0.0416],\n",
      "             [0.6890],\n",
      "             [0.9406],\n",
      "             [0.3500]])}\n",
      "Input points labels: {'x0': LabelTensor([[0.]]), 'D': LabelTensor([[0.5744],\n",
      "             [0.0416],\n",
      "             [0.6890],\n",
      "             [0.9406],\n",
      "             [0.3500]])}\n"
     ]
    }
   ],
   "source": [
    "print(\"Input points:\", problem.input_pts)\n",
    "print(\"Input points labels:\", problem.discretised_domains)"
   ]
  },
  {
   "cell_type": "markdown",
   "id": "669e8534",
   "metadata": {},
   "source": [
    "To visualize the sampled points we can use `matplotlib.pyplot`:"
   ]
  },
  {
   "cell_type": "code",
   "execution_count": 28,
   "id": "3802e22a",
   "metadata": {},
   "outputs": [
    {
     "data": {
      "text/plain": [
       "<matplotlib.legend.Legend at 0x17a86b6d0>"
      ]
     },
     "execution_count": 28,
     "metadata": {},
     "output_type": "execute_result"
    },
    {
     "data": {
      "image/png": "[encoded data removed]",
      "text/plain": [
       "<Figure size 640x480 with 1 Axes>"
      ]
     },
     "metadata": {},
     "output_type": "display_data"
    }
   ],
   "source": [
    "for location in problem.input_pts:\n",
    "    coords = (\n",
    "        problem.input_pts[location].extract(problem.spatial_variables).flatten()\n",
    "    )\n",
    "    plt.scatter(coords, torch.zeros_like(coords), s=10, label=location)\n",
    "plt.legend()"
   ]
  },
  {
   "cell_type": "markdown",
   "id": "7bb09c53",
   "metadata": {},
   "source": [
    "## The Problem Zoo module\n",
    "\n",
    "In PINA many problems are already implemented for you in the [Problem Zoo module](https://mathlab.github.io/PINA/_rst/_code.html#problems-zoo). For example, the supervised problem at the beginning of the tutorial is implemented in [`SupervisedProblem`](https://mathlab.github.io/PINA/_rst/problem/zoo/supervised_problem.html)!\n",
    "\n",
    "Let's see now a physics based example, the advection equation"
   ]
  },
  {
   "cell_type": "code",
   "execution_count": 30,
   "id": "c70dfd4b",
   "metadata": {},
   "outputs": [
    {
     "name": "stdout",
     "output_type": "stream",
     "text": [
      "The AdvectionProblem has 2 conditions with names ['t0', 'D'] \n",
      "The problem inherits from ['SpatialProblem', 'TimeDependentProblem'] \n",
      "and the domains are of type CartesianDomain\n"
     ]
    }
   ],
   "source": [
    "from pina.problem.zoo import AdvectionProblem\n",
    "\n",
    "# defining the problem\n",
    "problem = AdvectionProblem()\n",
    "\n",
    "# some infos\n",
    "print(\n",
    "    f\"The {problem.__class__.__name__} has {len(problem.conditions)} \"\n",
    "    f\"conditions with names {list(problem.conditions.keys())} \\n\"\n",
    "    \"The problem inherits from \"\n",
    "    f\"{[cls.__name__ for cls in problem.__class__.__bases__]} \\n\"\n",
    "    f\"and the domains are of type {type(problem.domains['t0']).__name__}\"\n",
    ")"
   ]
  },
  {
   "cell_type": "markdown",
   "id": "33e672da",
   "metadata": {},
   "source": [
    "## What's Next?\n",
    "\n",
    "Congratulations on completing the introductory tutorial of **PINA** problems! There are several directions you can explore next:\n",
    "\n",
    "1. **Create Custom Problems**: Try building your own problems using the PINA framework, experiment with different PDEs, initial/boundary conditions, and data structures.\n",
    "\n",
    "2. **Explore the Problem Zoo**: Dive into the [`problem.zoo` module](https://mathlab.github.io/PINA/_rst/_code.html#problems-zoo) to find a variety of predefined problem setups and use them as a starting point or inspiration for your own.\n",
    "\n",
    "3. **...and many more!**: The possibilities are vast! Consider experimenting with different solver strategies, model architectures, or even implementing your own physical constraints.\n",
    "\n",
    "For more examples and in-depth guides, be sure to check out the [PINA Documentation](https://mathlab.github.io/PINA/)."
   ]
  }
 ],
 "metadata": {
  "kernelspec": {
   "display_name": "pina",
   "language": "python",
   "name": "python3"
  },
  "language_info": {
   "codemirror_mode": {
    "name": "ipython",
    "version": 3
   },
   "file_extension": ".py",
   "mimetype": "text/x-python",
   "name": "python",
   "nbconvert_exporter": "python",
   "pygments_lexer": "ipython3",
   "version": "3.9.21"
  }
 },
 "nbformat": 4,
 "nbformat_minor": 5
}
