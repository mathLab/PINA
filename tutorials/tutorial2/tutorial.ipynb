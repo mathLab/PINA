{
 "cells": [
  {
   "cell_type": "markdown",
   "source": [
    "# Tutorial 2: resolution of Poisson problem and usage of extra-features"
   ],
   "metadata": {}
  },
  {
   "cell_type": "markdown",
   "source": [
    "### The problem definition"
   ],
   "metadata": {}
  },
  {
   "cell_type": "markdown",
   "source": [
    "This tutorial presents how to solve with Physics-Informed Neural Networks a 2D Poisson problem with Dirichlet boundary conditions.\n",
    "\n",
    "The problem is written as:\n",
    "\\begin{equation}\n",
    "\\begin{cases}\n",
    "\\Delta u = \\sin{(\\pi x)} \\sin{(\\pi y)} \\text{ in } D, \\\\\n",
    "u = 0 \\text{ on } \\Gamma_1 \\cup \\Gamma_2 \\cup \\Gamma_3 \\cup \\Gamma_4,\n",
    "\\end{cases}\n",
    "\\end{equation}\n",
    "where $D$ is a square domain $[0,1]^2$, and $\\Gamma_i$, with $i=1,...,4$, are the boundaries of the square."
   ],
   "metadata": {}
  },
  {
   "cell_type": "markdown",
   "source": [
    "First of all, some useful imports."
   ],
   "metadata": {}
  },
  {
   "cell_type": "code",
   "execution_count": null,
   "source": [
    "import torch\n",
    "from torch.nn import Softplus\n",
    "\n",
    "from pina.problem import SpatialProblem\n",
    "from pina.operators import nabla\n",
    "from pina.model import FeedForward\n",
    "from pina import Condition, Span, PINN, LabelTensor, Plotter"
   ],
   "outputs": [],
   "metadata": {}
  },
  {
   "cell_type": "markdown",
   "source": [
    "Now, the Poisson problem is written in PINA code as a class. The equations are written as *conditions* that should be satisfied in the corresponding domains. *truth_solution*\n",
    "is the exact solution which will be compared with the predicted one."
   ],
   "metadata": {}
  },
  {
   "cell_type": "code",
   "execution_count": null,
   "source": [
    "class Poisson(SpatialProblem):\n",
    "    output_variables = ['u']\n",
    "    spatial_domain = Span({'x': [0, 1], 'y': [0, 1]})\n",
    "\n",
    "    def laplace_equation(input_, output_):\n",
    "        force_term = (torch.sin(input_.extract(['x'])*torch.pi) *\n",
    "                      torch.sin(input_.extract(['y'])*torch.pi))\n",
    "        nabla_u = nabla(output_, input_, components=['u'], d=['x', 'y'])\n",
    "        return nabla_u - force_term\n",
    "\n",
    "    def nil_dirichlet(input_, output_):\n",
    "        value = 0.0\n",
    "        return output_.extract(['u']) - value\n",
    "\n",
    "    conditions = {\n",
    "        'gamma1': Condition(location=Span({'x': [0, 1], 'y':  1}), function=nil_dirichlet),\n",
    "        'gamma2': Condition(location=Span({'x': [0, 1], 'y': 0}), function=nil_dirichlet),\n",
    "        'gamma3': Condition(location=Span({'x':  1, 'y': [0, 1]}), function=nil_dirichlet),\n",
    "        'gamma4': Condition(location=Span({'x': 0, 'y': [0, 1]}), function=nil_dirichlet),\n",
    "        'D': Condition(location=Span({'x': [0, 1], 'y': [0, 1]}), function=laplace_equation),\n",
    "    }\n",
    "\n",
    "    def poisson_sol(self, pts):\n",
    "        return -(\n",
    "            torch.sin(pts.extract(['x'])*torch.pi)*\n",
    "            torch.sin(pts.extract(['y'])*torch.pi)\n",
    "        )/(2*torch.pi**2)\n",
    "    \n",
    "    truth_solution = poisson_sol"
   ],
   "outputs": [],
   "metadata": {}
  },
  {
   "cell_type": "markdown",
   "source": [
    "### The problem solution "
   ],
   "metadata": {}
  },
  {
   "cell_type": "markdown",
   "source": [
    "After the problem, the feed-forward neural network is defined, through the class `FeedForward`. This neural network takes as input the coordinates (in this case $x$ and $y$) and provides the unkwown field of the Poisson problem. The residual of the equations are evaluated at several sampling points (which the user can manipulate using the method `span_pts`) and the loss minimized by the neural network is the sum of the residuals.\n",
    "\n",
    "In this tutorial, the neural network is composed by two hidden layers of 10 neurons each, and it is trained for 1000 epochs with a learning rate of 0.006. These parameters can be modified as desired.\n",
    "The output of the cell below is the final loss of the training phase of the PINN.\n",
    "We highlight that the generation of the sampling points and the train is here encapsulated within the function `generate_samples_and_train`, but only for saving some lines of code in the next cells; that function is not mandatory in the **PINA** framework. "
   ],
   "metadata": {}
  },
  {
   "cell_type": "code",
   "execution_count": null,
   "source": [
    "def generate_samples_and_train(model, problem):\n",
    "    pinn = PINN(problem, model, lr=0.006, regularizer=1e-8)\n",
    "    pinn.span_pts(20, 'grid', locations=['D'])\n",
    "    pinn.span_pts(20, 'grid', locations=['gamma1', 'gamma2', 'gamma3', 'gamma4'])\n",
    "    pinn.train(1000, 100)\n",
    "    return pinn\n",
    "\n",
    "problem = Poisson()\n",
    "model = FeedForward(\n",
    "    layers=[10, 10],\n",
    "    func=Softplus,\n",
    "    output_variables=problem.output_variables,\n",
    "    input_variables=problem.input_variables\n",
    ")\n",
    "\n",
    "pinn = generate_samples_and_train(model, problem)"
   ],
   "outputs": [],
   "metadata": {
    "scrolled": true
   }
  },
  {
   "cell_type": "markdown",
   "source": [
    "The neural network of course can be saved in a file. In such a way, we can store it after the train, and load it just to infer the field. Here we don't store the model, but for demonstrative purposes  we put in the next cell the commented line of code."
   ],
   "metadata": {}
  },
  {
   "cell_type": "code",
   "execution_count": null,
   "source": [
    "# pinn.save_state('pina.poisson')"
   ],
   "outputs": [],
   "metadata": {}
  },
  {
   "cell_type": "markdown",
   "source": [
    "Now the *Plotter* class is used to plot the results.\n",
    "The solution predicted by the neural network is plotted on the left, the exact one is represented at the center and on the right the error between the exact and the predicted solutions is showed. "
   ],
   "metadata": {}
  },
  {
   "cell_type": "code",
   "execution_count": null,
   "source": [
    "plotter = Plotter()\n",
    "plotter.plot(pinn)"
   ],
   "outputs": [],
   "metadata": {}
  },
  {
   "cell_type": "markdown",
   "source": [
    "### The problem solution with extra-features"
   ],
   "metadata": {}
  },
  {
   "cell_type": "markdown",
   "source": [
    "Now, the same problem is solved in a different way.\n",
    "A new neural network is now defined, with an additional input variable, named extra-feature, which coincides with the forcing term in the Laplace equation. \n",
    "The set of input variables to the neural network is:\n",
    "\n",
    "\\begin{equation}\n",
    "[x, y, k(x, y)], \\text{ with } k(x, y)=\\sin{(\\pi x)}\\sin{(\\pi y)},\n",
    "\\end{equation}\n",
    "\n",
    "where $x$ and $y$ are the spatial coordinates and $k(x, y)$ is the added feature. \n",
    "\n",
    "This feature is initialized in the class `SinSin`, which needs to be inherited by the `torch.nn.Module` class and to have the `forward` method. After declaring such feature, we can just incorporate in the `FeedForward` class thanks to the `extra_features` argument.\n",
    "**NB**: `extra_features` always needs a `list` as input, you you have one feature just encapsulated it in a class, as in the next cell.\n",
    "\n",
    "Finally, we perform the same training as before: the problem is `Poisson`, the network is composed by the same number of neurons and optimizer parameters are equal to previous test, the only change is the new extra feature."
   ],
   "metadata": {}
  },
  {
   "cell_type": "code",
   "execution_count": null,
   "source": [
    "class SinSin(torch.nn.Module):\n",
    "    \"\"\"Feature: sin(x)*sin(y)\"\"\"\n",
    "    def __init__(self):\n",
    "        super().__init__()\n",
    "\n",
    "    def forward(self, x):\n",
    "        t = (torch.sin(x.extract(['x'])*torch.pi) *\n",
    "             torch.sin(x.extract(['y'])*torch.pi))\n",
    "        return LabelTensor(t, ['sin(x)sin(y)'])\n",
    "\n",
    "model_feat = FeedForward(\n",
    "        layers=[10, 10],\n",
    "        output_variables=problem.output_variables,\n",
    "        input_variables=problem.input_variables,\n",
    "        func=Softplus,\n",
    "        extra_features=[SinSin()]\n",
    "    )\n",
    "\n",
    "pinn_feat = generate_samples_and_train(model_feat, problem)"
   ],
   "outputs": [],
   "metadata": {}
  },
  {
   "cell_type": "markdown",
   "source": [
    "The predicted and exact solutions and the error between them are represented below.\n",
    "We can easily note that now our network, having almost the same condition as before, is able to reach an additional order of magnitude in accuracy."
   ],
   "metadata": {}
  },
  {
   "cell_type": "code",
   "execution_count": null,
   "source": [
    "plotter.plot(pinn_feat)"
   ],
   "outputs": [],
   "metadata": {}
  },
  {
   "cell_type": "markdown",
   "source": [
    "### The problem solution with learnable extra-features"
   ],
   "metadata": {}
  },
  {
   "cell_type": "markdown",
   "source": [
    "We can still do better!\n",
    "\n",
    "Another way to exploit the  extra features is the addition of learnable parameter inside them.\n",
    "In this way, the added parameters are learned during the training phase of the neural network. In this case, we use:\n",
    "\n",
    "\\begin{equation}\n",
    "k(x, \\mathbf{y}) = \\beta \\sin{(\\alpha x)} \\sin{(\\alpha y)},\n",
    "\\end{equation}\n",
    "\n",
    "where $\\alpha$ and $\\beta$ are the abovementioned parameters.\n",
    "Their implementation is quite trivial: by using the class `torch.nn.Parameter` we cam define all the learnable parameters we need, and they are managed by `autograd` module!"
   ],
   "metadata": {}
  },
  {
   "cell_type": "code",
   "execution_count": null,
   "source": [
    "class SinSinAB(torch.nn.Module):\n",
    "    \"\"\" \"\"\"\n",
    "    def __init__(self):\n",
    "        super().__init__()\n",
    "        self.alpha = torch.nn.Parameter(torch.tensor([1.0]))\n",
    "        self.beta = torch.nn.Parameter(torch.tensor([1.0]))\n",
    "\n",
    "\n",
    "    def forward(self, x):\n",
    "        t =  (\n",
    "            self.beta*torch.sin(self.alpha*x.extract(['x'])*torch.pi)*\n",
    "                      torch.sin(self.alpha*x.extract(['y'])*torch.pi)\n",
    "        )\n",
    "        return LabelTensor(t, ['b*sin(a*x)sin(a*y)'])\n",
    "\n",
    "\n",
    "model_learn = FeedForward(\n",
    "    layers=[10, 10],\n",
    "    output_variables=problem.output_variables,\n",
    "    input_variables=problem.input_variables,\n",
    "    extra_features=[SinSinAB()]\n",
    ")\n",
    "\n",
    "pinn_learn = generate_samples_and_train(model_learn, problem)"
   ],
   "outputs": [],
   "metadata": {}
  },
  {
   "cell_type": "markdown",
   "source": [
    "Umh, the final loss is not appreciabily better than previous model (with static extra features), despite the usage of learnable parameters. This is mainly due to the over-parametrization of the network: there are many parameter to optimize during the training, and the model in unable to understand automatically that only the parameters of the extra feature (and not the weights/bias of the FFN) should be tuned in order to fit our problem. A longer training can be helpful, but in this case the faster way to reach machine precision for solving the Poisson problem is removing all the hidden layers in the `FeedForward`, keeping only the $\\alpha$ and $\\beta$ parameters of the extra feature."
   ],
   "metadata": {}
  },
  {
   "cell_type": "code",
   "execution_count": null,
   "source": [
    "model_learn = FeedForward(\n",
    "    layers=[],\n",
    "    output_variables=problem.output_variables,\n",
    "    input_variables=problem.input_variables,\n",
    "    extra_features=[SinSinAB()]\n",
    ")\n",
    "\n",
    "pinn_learn = generate_samples_and_train(model_learn, problem)"
   ],
   "outputs": [],
   "metadata": {}
  },
  {
   "cell_type": "markdown",
   "source": [
    "In such a way, the model is able to reach a very high accuracy!\n",
    "Of course, this is a toy problem for understanding the usage of extra features: similar precision could be obtained if the extra features are very similar to the true solution. The analyzed Poisson problem shows a forcing term very close to the solution, resulting in a perfect problem to address with such an approach.\n",
    "\n",
    "We conclude here by showing the graphical comparison of the unknown field and the loss trend for all the test cases presented here: the standard PINN, PINN with extra features, and PINN with learnable extra features."
   ],
   "metadata": {}
  },
  {
   "cell_type": "code",
   "execution_count": null,
   "source": [
    "plotter.plot(pinn_learn)"
   ],
   "outputs": [],
   "metadata": {}
  },
  {
   "cell_type": "code",
   "execution_count": null,
   "source": [
    "import matplotlib.pyplot as plt\n",
    "\n",
    "plt.figure(figsize=(16, 6))\n",
    "plotter.plot_loss(pinn, label='Standard')\n",
    "plotter.plot_loss(pinn_feat, label='Static Features')\n",
    "plotter.plot_loss(pinn_learn, label='Learnable Features')\n",
    "\n",
    "plt.grid()\n",
    "plt.legend()\n",
    "plt.show()"
   ],
   "outputs": [],
   "metadata": {}
  }
 ],
 "metadata": {
  "kernelspec": {
   "name": "python3",
   "display_name": "Python 3.9.16 64-bit ('dl': conda)"
  },
  "language_info": {
   "codemirror_mode": {
    "name": "ipython",
    "version": 3
   },
   "file_extension": ".py",
   "mimetype": "text/x-python",
   "name": "python",
   "nbconvert_exporter": "python",
   "pygments_lexer": "ipython3",
   "version": "3.9.16"
  },
  "interpreter": {
   "hash": "56be7540488f3dc66429ddf54a0fa9de50124d45fcfccfaf04c4c3886d735a3a"
  }
 },
 "nbformat": 4,
 "nbformat_minor": 5
}