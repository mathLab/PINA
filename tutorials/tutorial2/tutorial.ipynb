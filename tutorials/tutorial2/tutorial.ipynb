{
 "cells": [
  {
   "cell_type": "markdown",
   "id": "de19422d",
   "metadata": {},
   "source": [
    "# Tutorial: Enhancing PINNs with Extra Features to solve the Poisson Problem\n",
    "\n",
    "[![Open In Colab](https://colab.research.google.com/assets/colab-badge.svg)](https://colab.research.google.com/github/mathLab/PINA/blob/master/tutorials/tutorial2/tutorial.ipynb)\n",
    "\n",
    "This tutorial presents how to solve with Physics-Informed Neural Networks (PINNs) a 2D Poisson problem with Dirichlet boundary conditions. We will train with standard PINN's training, and with extrafeatures. For more insights on extrafeature learning please read [*An extended physics informed neural network for preliminary analysis of parametric optimal control problems*](https://www.sciencedirect.com/science/article/abs/pii/S0898122123002018).\n",
    "\n",
    "First of all, some useful imports."
   ]
  },
  {
   "cell_type": "code",
   "execution_count": null,
   "id": "ad0b8dd7",
   "metadata": {},
   "outputs": [],
   "source": [
    "## routine needed to run the notebook on Google Colab\n",
    "try:\n",
    "    import google.colab\n",
    "\n",
    "    IN_COLAB = True\n",
    "except:\n",
    "    IN_COLAB = False\n",
    "if IN_COLAB:\n",
    "    !pip install \"pina-mathlab[tutorial]\"\n",
    "\n",
    "import torch\n",
    "import matplotlib.pyplot as plt\n",
    "import warnings\n",
    "\n",
    "from pina import LabelTensor, Trainer\n",
    "from pina.model import FeedForward\n",
    "from pina.solver import PINN\n",
    "from torch.nn import Softplus\n",
    "\n",
    "warnings.filterwarnings(\"ignore\")"
   ]
  },
  {
   "cell_type": "markdown",
   "id": "492a37b4",
   "metadata": {},
   "source": [
    "## The problem definition"
   ]
  },
  {
   "cell_type": "markdown",
   "id": "2c0b1777",
   "metadata": {},
   "source": [
    "The two-dimensional Poisson problem is mathematically written as:\n",
    "\\begin{equation}\n",
    "\\begin{cases}\n",
    "\\Delta u = 2\\pi^2\\sin{(\\pi x)} \\sin{(\\pi y)} \\text{ in } D, \\\\\n",
    "u = 0 \\text{ on } \\Gamma_1 \\cup \\Gamma_2 \\cup \\Gamma_3 \\cup \\Gamma_4,\n",
    "\\end{cases}\n",
    "\\end{equation}\n",
    "where $D$ is a square domain $[0,1]^2$, and $\\Gamma_i$, with $i=1,...,4$, are the boundaries of the square.\n",
    "\n",
    "The Poisson problem is written in **PINA** code as a class. The equations are written as *conditions* that should be satisfied in the corresponding domains. The *solution*\n",
    "is the exact solution which will be compared with the predicted one. If interested in how to write problems see [this tutorial](https://mathlab.github.io/PINA/_rst/tutorials/tutorial16/tutorial.html).\n",
    "\n",
    "We will directly import the problem from `pina.problem.zoo`, which contains a vast list of PINN problems and more."
   ]
  },
  {
   "cell_type": "code",
   "execution_count": 4,
   "id": "82c24040",
   "metadata": {},
   "outputs": [
    {
     "name": "stdout",
     "output_type": "stream",
     "text": [
      "The problem is made of 5 conditions: \n",
      "They are: ['g1', 'g2', 'g3', 'g4', 'D']\n"
     ]
    }
   ],
   "source": [
    "from pina.problem.zoo import Poisson2DSquareProblem as Poisson\n",
    "\n",
    "# initialize the problem\n",
    "problem = Poisson()\n",
    "\n",
    "# print the conditions\n",
    "print(\n",
    "    f\"The problem is made of {len(problem.conditions.keys())} conditions: \\n\"\n",
    "    f\"They are: {list(problem.conditions.keys())}\"\n",
    ")\n",
    "\n",
    "# let's discretise the domain\n",
    "problem.discretise_domain(30, \"grid\", domains=[\"D\"])\n",
    "problem.discretise_domain(\n",
    "    100,\n",
    "    \"grid\",\n",
    "    domains=[\"g1\", \"g2\", \"g3\", \"g4\"],\n",
    ")"
   ]
  },
  {
   "cell_type": "markdown",
   "id": "7086c64d",
   "metadata": {},
   "source": [
    "## Solving the problem with standard PINNs"
   ]
  },
  {
   "cell_type": "markdown",
   "id": "72ba4501",
   "metadata": {},
   "source": [
    "After the problem, the feed-forward neural network is defined, through the class `FeedForward`. This neural network takes as input the coordinates (in this case $x$ and $y$) and provides the unkwown field of the Poisson problem. The residual of the equations are evaluated at several sampling points and the loss minimized by the neural network is the sum of the residuals.\n",
    "\n",
    "In this tutorial, the neural network is composed by two hidden layers of 10 neurons each, and it is trained for 1000 epochs with a learning rate of 0.006 and $l_2$ weight regularization set to $10^{-8}$. These parameters can be modified as desired. We set the `train_size` to 0.8 and `test_size` to 0.2, this mean that the discretised points will be divided in a 80%-20% fashion, where 80% will be used for training and the remaining 20% for testing."
   ]
  },
  {
   "cell_type": "code",
   "execution_count": 5,
   "id": "e7d20d6d",
   "metadata": {
    "scrolled": true
   },
   "outputs": [
    {
     "name": "stderr",
     "output_type": "stream",
     "text": [
      "GPU available: True (mps), used: False\n",
      "TPU available: False, using: 0 TPU cores\n",
      "HPU available: False, using: 0 HPUs\n"
     ]
    },
    {
     "data": {
      "application/vnd.jupyter.widget-view+json": {
       "model_id": "38a34ce3c1214e90be1f5e0194d80674",
       "version_major": 2,
       "version_minor": 0
      },
      "text/plain": [
       "Training: |          | 0/? [00:00<?, ?it/s]"
      ]
     },
     "metadata": {},
     "output_type": "display_data"
    },
    {
     "name": "stderr",
     "output_type": "stream",
     "text": [
      "`Trainer.fit` stopped: `max_epochs=1000` reached.\n"
     ]
    }
   ],
   "source": [
    "# make model + solver + trainer\n",
    "from pina.optim import TorchOptimizer\n",
    "\n",
    "model = FeedForward(\n",
    "    layers=[10, 10],\n",
    "    func=Softplus,\n",
    "    output_dimensions=len(problem.output_variables),\n",
    "    input_dimensions=len(problem.input_variables),\n",
    ")\n",
    "pinn = PINN(\n",
    "    problem,\n",
    "    model,\n",
    "    optimizer=TorchOptimizer(torch.optim.Adam, lr=0.006, weight_decay=1e-8),\n",
    ")\n",
    "trainer_base = Trainer(\n",
    "    solver=pinn,  # setting the solver, i.e. PINN\n",
    "    max_epochs=1000,  # setting max epochs in training\n",
    "    accelerator=\"cpu\",  # we train on cpu, also other are available\n",
    "    enable_model_summary=False,  # model summary statistics not printed\n",
    "    train_size=0.8,  # set train size\n",
    "    val_size=0.0,  # set validation size\n",
    "    test_size=0.2,  # set testing size\n",
    "    shuffle=True,  # shuffle the data\n",
    ")\n",
    "\n",
    "# train\n",
    "trainer_base.train()"
   ]
  },
  {
   "cell_type": "markdown",
   "id": "eb83cc7a",
   "metadata": {},
   "source": [
    "Now we plot the results using `matplotlib`.\n",
    "The solution predicted by the neural network is plotted on the left, the exact one is in the center and on the right the error between the exact and the predicted solutions is showed. "
   ]
  },
  {
   "cell_type": "code",
   "execution_count": 6,
   "id": "1ab83c03",
   "metadata": {},
   "outputs": [],
   "source": [
    "@torch.no_grad()\n",
    "def plot_solution(solver):\n",
    "    # get the problem\n",
    "    problem = solver.problem\n",
    "    # get spatial points\n",
    "    spatial_samples = problem.spatial_domain.sample(30, \"grid\")\n",
    "    # compute pinn solution, true solution and absolute difference\n",
    "    data = {\n",
    "        \"PINN solution\": solver(spatial_samples),\n",
    "        \"True solution\": problem.solution(spatial_samples),\n",
    "        \"Absolute Difference\": torch.abs(\n",
    "            solver(spatial_samples) - problem.solution(spatial_samples)\n",
    "        ),\n",
    "    }\n",
    "    # plot the solution\n",
    "    for idx, (title, field) in enumerate(data.items()):\n",
    "        plt.subplot(1, 3, idx + 1)\n",
    "        plt.title(title)\n",
    "        plt.tricontourf(  # convert to torch tensor + flatten\n",
    "            spatial_samples.extract(\"x\").tensor.flatten(),\n",
    "            spatial_samples.extract(\"y\").tensor.flatten(),\n",
    "            field.tensor.flatten(),\n",
    "        )\n",
    "        plt.colorbar(), plt.tight_layout()"
   ]
  },
  {
   "cell_type": "markdown",
   "id": "dfec566d",
   "metadata": {},
   "source": [
    "Here the solution:"
   ]
  },
  {
   "cell_type": "code",
   "execution_count": 7,
   "id": "7db10610",
   "metadata": {},
   "outputs": [
    {
     "data": {
      "image/png": "[encoded data removed]",
      "text/plain": [
       "<Figure size 1200x600 with 6 Axes>"
      ]
     },
     "metadata": {},
     "output_type": "display_data"
    }
   ],
   "source": [
    "plt.figure(figsize=(12, 6))\n",
    "plot_solution(solver=pinn)"
   ]
  },
  {
   "cell_type": "markdown",
   "id": "49142e7f",
   "metadata": {},
   "source": [
    "As you can see the solution is not very accurate, in what follows we will use **Extra Feature** as introduced in [*An extended physics informed neural network for preliminary analysis of parametric optimal control problems*](https://www.sciencedirect.com/science/article/abs/pii/S0898122123002018) to boost the training accuracy. Of course, even extra training will benefit, this tutorial is just to show that convergence using Extra Features is usally faster."
   ]
  },
  {
   "cell_type": "markdown",
   "id": "20fdf23e",
   "metadata": {},
   "source": [
    "## Solving the problem with extra-features PINNs"
   ]
  },
  {
   "cell_type": "markdown",
   "id": "a1e76351",
   "metadata": {},
   "source": [
    "Now, the same problem is solved in a different way.\n",
    "A new neural network is now defined, with an additional input variable, named extra-feature, which coincides with the forcing term in the Laplace equation. \n",
    "The set of input variables to the neural network is:\n",
    "\n",
    "\\begin{equation}\n",
    "[x, y, k(x, y)], \\text{ with } k(x, y)= 2\\pi^2\\sin{(\\pi x)}\\sin{(\\pi y)},\n",
    "\\end{equation}\n",
    "\n",
    "where $x$ and $y$ are the spatial coordinates and $k(x, y)$ is the added feature which is equal to the forcing term.\n",
    "\n",
    "This feature is initialized in the class `SinSin`, which is a simple `torch.nn.Module`. After declaring such feature, we can just adjust the `FeedForward` class by creating a subclass `FeedForwardWithExtraFeatures` with an adjusted forward method and the additional attribute `extra_features`.\n",
    "\n",
    "Finally, we perform the same training as before: the problem is `Poisson`, the network is composed by the same number of neurons and optimizer parameters are equal to previous test, the only change is the new extra feature."
   ]
  },
  {
   "cell_type": "code",
   "execution_count": 8,
   "id": "ef3ad372",
   "metadata": {},
   "outputs": [
    {
     "name": "stderr",
     "output_type": "stream",
     "text": [
      "GPU available: True (mps), used: False\n",
      "TPU available: False, using: 0 TPU cores\n",
      "HPU available: False, using: 0 HPUs\n"
     ]
    },
    {
     "data": {
      "application/vnd.jupyter.widget-view+json": {
       "model_id": "62180078584f4dfea97d9dc6f8d20856",
       "version_major": 2,
       "version_minor": 0
      },
      "text/plain": [
       "Training: |          | 0/? [00:00<?, ?it/s]"
      ]
     },
     "metadata": {},
     "output_type": "display_data"
    },
    {
     "name": "stderr",
     "output_type": "stream",
     "text": [
      "`Trainer.fit` stopped: `max_epochs=1000` reached.\n"
     ]
    }
   ],
   "source": [
    "class SinSin(torch.nn.Module):\n",
    "    \"\"\"Feature: sin(x)*sin(y)\"\"\"\n",
    "\n",
    "    def __init__(self):\n",
    "        super().__init__()\n",
    "\n",
    "    def forward(self, pts):\n",
    "        x, y = pts.extract([\"x\"]), pts.extract([\"y\"])\n",
    "        f = 2 * torch.pi**2 * torch.sin(x * torch.pi) * torch.sin(y * torch.pi)\n",
    "        return LabelTensor(f, [\"feat\"])\n",
    "\n",
    "\n",
    "class FeedForwardWithExtraFeatures(FeedForward):\n",
    "    def __init__(self, *args, extra_features, **kwargs):\n",
    "        super().__init__(*args, **kwargs)\n",
    "        self.extra_features = extra_features\n",
    "\n",
    "    def forward(self, x):\n",
    "        extra_feature = self.extra_features(x)  # we append extra features\n",
    "        x = x.append(extra_feature)\n",
    "        return super().forward(x)\n",
    "\n",
    "\n",
    "model_feat = FeedForwardWithExtraFeatures(\n",
    "    input_dimensions=len(problem.input_variables) + 1,\n",
    "    output_dimensions=len(problem.output_variables),\n",
    "    func=Softplus,\n",
    "    layers=[10, 10],\n",
    "    extra_features=SinSin(),\n",
    ")\n",
    "\n",
    "pinn_feat = PINN(\n",
    "    problem,\n",
    "    model_feat,\n",
    "    optimizer=TorchOptimizer(torch.optim.Adam, lr=0.006, weight_decay=1e-8),\n",
    ")\n",
    "trainer_feat = Trainer(\n",
    "    solver=pinn_feat,  # setting the solver, i.e. PINN\n",
    "    max_epochs=1000,  # setting max epochs in training\n",
    "    accelerator=\"cpu\",  # we train on cpu, also other are available\n",
    "    enable_model_summary=False,  # model summary statistics not printed\n",
    "    train_size=0.8,  # set train size\n",
    "    val_size=0.0,  # set validation size\n",
    "    test_size=0.2,  # set testing size\n",
    "    shuffle=True,  # shuffle the data\n",
    ")\n",
    "\n",
    "trainer_feat.train()"
   ]
  },
  {
   "cell_type": "markdown",
   "id": "9748a13e",
   "metadata": {},
   "source": [
    "The predicted and exact solutions and the error between them are represented below.\n",
    "We can easily note that now our network, having almost the same condition as before, is able to reach additional order of magnitudes in accuracy."
   ]
  },
  {
   "cell_type": "code",
   "execution_count": 9,
   "id": "2be6b145",
   "metadata": {},
   "outputs": [
    {
     "data": {
      "image/png": "[encoded data removed]",
      "text/plain": [
       "<Figure size 1200x600 with 6 Axes>"
      ]
     },
     "metadata": {},
     "output_type": "display_data"
    }
   ],
   "source": [
    "plt.figure(figsize=(12, 6))\n",
    "plot_solution(solver=pinn_feat)"
   ]
  },
  {
   "cell_type": "markdown",
   "id": "e7bc0577",
   "metadata": {},
   "source": [
    "## Solving the problem with learnable extra-features PINNs"
   ]
  },
  {
   "cell_type": "markdown",
   "id": "86c1d7b0",
   "metadata": {},
   "source": [
    "We can still do better!\n",
    "\n",
    "Another way to exploit the  extra features is the addition of learnable parameter inside them.\n",
    "In this way, the added parameters are learned during the training phase of the neural network. In this case, we use:\n",
    "\n",
    "\\begin{equation}\n",
    "k(x, \\mathbf{y}) = \\beta \\sin{(\\alpha x)} \\sin{(\\alpha y)},\n",
    "\\end{equation}\n",
    "\n",
    "where $\\alpha$ and $\\beta$ are the abovementioned parameters.\n",
    "Their implementation is quite trivial: by using the class `torch.nn.Parameter` we cam define all the learnable parameters we need, and they are managed by `autograd` module!"
   ]
  },
  {
   "cell_type": "code",
   "execution_count": 10,
   "id": "ae8716e7",
   "metadata": {},
   "outputs": [
    {
     "name": "stderr",
     "output_type": "stream",
     "text": [
      "GPU available: True (mps), used: False\n",
      "TPU available: False, using: 0 TPU cores\n",
      "HPU available: False, using: 0 HPUs\n"
     ]
    },
    {
     "data": {
      "application/vnd.jupyter.widget-view+json": {
       "model_id": "3eed1678b6c14cf2a190c248766815c7",
       "version_major": 2,
       "version_minor": 0
      },
      "text/plain": [
       "Training: |          | 0/? [00:00<?, ?it/s]"
      ]
     },
     "metadata": {},
     "output_type": "display_data"
    },
    {
     "name": "stderr",
     "output_type": "stream",
     "text": [
      "`Trainer.fit` stopped: `max_epochs=1000` reached.\n"
     ]
    }
   ],
   "source": [
    "class SinSinAB(torch.nn.Module):\n",
    "    \"\"\" \"\"\"\n",
    "\n",
    "    def __init__(self):\n",
    "        super().__init__()\n",
    "        self.alpha = torch.nn.Parameter(torch.tensor([1.0]))\n",
    "        self.beta = torch.nn.Parameter(torch.tensor([1.0]))\n",
    "\n",
    "    def forward(self, x):\n",
    "        t = (\n",
    "            self.beta\n",
    "            * torch.sin(self.alpha * x.extract([\"x\"]) * torch.pi)\n",
    "            * torch.sin(self.alpha * x.extract([\"y\"]) * torch.pi)\n",
    "        )\n",
    "        return LabelTensor(t, [\"b*sin(a*x)sin(a*y)\"])\n",
    "\n",
    "\n",
    "# make model + solver + trainer\n",
    "model_learn = FeedForwardWithExtraFeatures(\n",
    "    input_dimensions=len(problem.input_variables)\n",
    "    + 1,  # we add one as also we consider the extra feature dimension\n",
    "    output_dimensions=len(problem.output_variables),\n",
    "    func=Softplus,\n",
    "    layers=[10, 10],\n",
    "    extra_features=SinSinAB(),\n",
    ")\n",
    "\n",
    "pinn_learn = PINN(\n",
    "    problem,\n",
    "    model_learn,\n",
    "    optimizer=TorchOptimizer(torch.optim.Adam, lr=0.006, weight_decay=1e-8),\n",
    ")\n",
    "trainer_learn = Trainer(\n",
    "    solver=pinn_learn,  # setting the solver, i.e. PINN\n",
    "    max_epochs=1000,  # setting max epochs in training\n",
    "    accelerator=\"cpu\",  # we train on cpu, also other are available\n",
    "    enable_model_summary=False,  # model summary statistics not printed\n",
    "    train_size=0.8,  # set train size\n",
    "    val_size=0.0,  # set validation size\n",
    "    test_size=0.2,  # set testing size\n",
    "    shuffle=True,  # shuffle the data\n",
    ")\n",
    "# train\n",
    "trainer_learn.train()"
   ]
  },
  {
   "cell_type": "markdown",
   "id": "0319fb3b",
   "metadata": {},
   "source": [
    "Umh, the final loss is not appreciabily better than previous model (with static extra features), despite the usage of learnable parameters. This is mainly due to the over-parametrization of the network: there are many parameter to optimize during the training, and the model in unable to understand automatically that only the parameters of the extra feature (and not the weights/bias of the FFN) should be tuned in order to fit our problem. A longer training can be helpful, but in this case the faster way to reach machine precision for solving the Poisson problem is removing all the hidden layers in the `FeedForward`, keeping only the $\\alpha$ and $\\beta$ parameters of the extra feature."
   ]
  },
  {
   "cell_type": "code",
   "execution_count": 11,
   "id": "daa9cf17",
   "metadata": {},
   "outputs": [
    {
     "name": "stderr",
     "output_type": "stream",
     "text": [
      "GPU available: True (mps), used: False\n",
      "TPU available: False, using: 0 TPU cores\n",
      "HPU available: False, using: 0 HPUs\n"
     ]
    },
    {
     "data": {
      "application/vnd.jupyter.widget-view+json": {
       "model_id": "dd1dfdff74d44fe39c9a26577360887c",
       "version_major": 2,
       "version_minor": 0
      },
      "text/plain": [
       "Training: |          | 0/? [00:00<?, ?it/s]"
      ]
     },
     "metadata": {},
     "output_type": "display_data"
    },
    {
     "name": "stderr",
     "output_type": "stream",
     "text": [
      "`Trainer.fit` stopped: `max_epochs=1000` reached.\n"
     ]
    }
   ],
   "source": [
    "# make model + solver + trainer\n",
    "model_learn = FeedForwardWithExtraFeatures(\n",
    "    layers=[],\n",
    "    func=Softplus,\n",
    "    output_dimensions=len(problem.output_variables),\n",
    "    input_dimensions=len(problem.input_variables) + 1,\n",
    "    extra_features=SinSinAB(),\n",
    ")\n",
    "pinn_learn = PINN(\n",
    "    problem,\n",
    "    model_learn,\n",
    "    optimizer=TorchOptimizer(torch.optim.Adam, lr=0.006, weight_decay=1e-8),\n",
    ")\n",
    "trainer_learn = Trainer(\n",
    "    solver=pinn_learn,  # setting the solver, i.e. PINN\n",
    "    max_epochs=1000,  # setting max epochs in training\n",
    "    accelerator=\"cpu\",  # we train on cpu, also other are available\n",
    "    enable_model_summary=False,  # model summary statistics not printed\n",
    "    train_size=0.8,  # set train size\n",
    "    val_size=0.0,  # set validation size\n",
    "    test_size=0.2,  # set testing size\n",
    "    shuffle=True,  # shuffle the data\n",
    ")\n",
    "# train\n",
    "trainer_learn.train()"
   ]
  },
  {
   "cell_type": "markdown",
   "id": "150b3e62",
   "metadata": {},
   "source": [
    "In such a way, the model is able to reach a very high accuracy!\n",
    "Of course, this is a toy problem for understanding the usage of extra features: similar precision could be obtained if the extra features are very similar to the true solution. The analyzed Poisson problem shows a forcing term very close to the solution, resulting in a perfect problem to address with such an approach."
   ]
  },
  {
   "cell_type": "markdown",
   "id": "8c64fcb4",
   "metadata": {},
   "source": [
    "We conclude here by showing the test error for the analysed methodologies: the standard PINN, PINN with extra features, and PINN with learnable extra features."
   ]
  },
  {
   "cell_type": "code",
   "execution_count": 12,
   "id": "a04e8a5d",
   "metadata": {},
   "outputs": [
    {
     "name": "stdout",
     "output_type": "stream",
     "text": [
      "PINN\n"
     ]
    },
    {
     "data": {
      "application/vnd.jupyter.widget-view+json": {
       "model_id": "1079e27187e3401b8fe32a2eedc2048d",
       "version_major": 2,
       "version_minor": 0
      },
      "text/plain": [
       "Testing: |          | 0/? [00:00<?, ?it/s]"
      ]
     },
     "metadata": {},
     "output_type": "display_data"
    },
    {
     "name": "stdout",
     "output_type": "stream",
     "text": [
      "────────────────────────────────────────────────────────────────────────────────────────────────────────────────────────\n",
      "       Test metric             DataLoader 0\n",
      "────────────────────────────────────────────────────────────────────────────────────────────────────────────────────────\n",
      "        test_loss           0.06821467727422714\n",
      "────────────────────────────────────────────────────────────────────────────────────────────────────────────────────────\n",
      "PINN with extra features\n"
     ]
    },
    {
     "data": {
      "application/vnd.jupyter.widget-view+json": {
       "model_id": "162d7ddcaaa04224a497fac59416dba3",
       "version_major": 2,
       "version_minor": 0
      },
      "text/plain": [
       "Testing: |          | 0/? [00:00<?, ?it/s]"
      ]
     },
     "metadata": {},
     "output_type": "display_data"
    },
    {
     "name": "stdout",
     "output_type": "stream",
     "text": [
      "────────────────────────────────────────────────────────────────────────────────────────────────────────────────────────\n",
      "       Test metric             DataLoader 0\n",
      "────────────────────────────────────────────────────────────────────────────────────────────────────────────────────────\n",
      "        test_loss          0.0006851177895441651\n",
      "────────────────────────────────────────────────────────────────────────────────────────────────────────────────────────\n",
      "PINN with learnable extra features\n"
     ]
    },
    {
     "data": {
      "application/vnd.jupyter.widget-view+json": {
       "model_id": "3223351c32cd439da929c499f80b847f",
       "version_major": 2,
       "version_minor": 0
      },
      "text/plain": [
       "Testing: |          | 0/? [00:00<?, ?it/s]"
      ]
     },
     "metadata": {},
     "output_type": "display_data"
    },
    {
     "name": "stdout",
     "output_type": "stream",
     "text": [
      "────────────────────────────────────────────────────────────────────────────────────────────────────────────────────────\n",
      "       Test metric             DataLoader 0\n",
      "────────────────────────────────────────────────────────────────────────────────────────────────────────────────────────\n",
      "        test_loss          5.667239566520266e-09\n",
      "────────────────────────────────────────────────────────────────────────────────────────────────────────────────────────\n"
     ]
    }
   ],
   "source": [
    "# test error base pinn\n",
    "print(\"PINN\")\n",
    "trainer_base.test()\n",
    "# test error extra features pinn\n",
    "print(\"PINN with extra features\")\n",
    "trainer_feat.test()\n",
    "# test error learnable extra features pinn\n",
    "print(\"PINN with learnable extra features\")\n",
    "_ = trainer_learn.test()"
   ]
  },
  {
   "cell_type": "markdown",
   "id": "0a4c8895",
   "metadata": {},
   "source": [
    "## What's Next?\n",
    "\n",
    "Congratulations on completing the two-dimensional Poisson tutorial of **PINA**! Now that you've learned the basics, there are multiple directions you can explore:\n",
    "\n",
    "1. **Train the Network for Longer**: Continue training the network for a longer duration or experiment with different layer sizes to assess the final accuracy.\n",
    "\n",
    "2. **Propose New Types of Extrafeatures**: Experiment with new extrafeatures and investigate how they affect the learning process.\n",
    "\n",
    "3. **Leverage Extrafeature Training for Complex Problems**: Apply extrafeature training techniques to more complex problems to improve model performance.\n",
    "\n",
    "4. **... and many more!.**: There are endless possibilities! Continue exploring and experimenting with new ideas.\n",
    "\n",
    "For more resources and tutorials, check out the [PINA Documentation](https://mathlab.github.io/PINA/)."
   ]
  }
 ],
 "metadata": {
  "kernelspec": {
   "display_name": "pina",
   "language": "python",
   "name": "python3"
  },
  "language_info": {
   "codemirror_mode": {
    "name": "ipython",
    "version": 3
   },
   "file_extension": ".py",
   "mimetype": "text/x-python",
   "name": "python",
   "nbconvert_exporter": "python",
   "pygments_lexer": "ipython3",
   "version": "3.9.21"
  }
 },
 "nbformat": 4,
 "nbformat_minor": 5
}
