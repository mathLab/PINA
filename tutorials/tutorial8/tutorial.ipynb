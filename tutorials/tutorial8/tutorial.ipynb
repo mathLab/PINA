{
 "cells": [
  {
   "cell_type": "markdown",
   "id": "dbbb73cb-a632-4056-bbca-b483b2ad5f9c",
   "metadata": {},
   "source": [
    "# Tutorial: Reduced Order Modeling with POD-RBF and POD-NN Approaches for Fluid Dynamics\n",
    "\n",
    "[![Open In Colab](https://colab.research.google.com/assets/colab-badge.svg)](https://colab.research.google.com/github/mathLab/PINA/blob/master/tutorials/tutorial9/tutorial.ipynb)"
   ]
  },
  {
   "cell_type": "markdown",
   "id": "84508f26-1ba6-4b59-926b-3e340d632a15",
   "metadata": {},
   "source": [
    "The goal of this tutorial is to demonstrate how to use the **PINA** library to apply a reduced-order modeling technique, as outlined in [1]. These methods share several similarities with machine learning approaches, as they focus on predicting the solution to differential equations, often parametric PDEs, in real-time.\n",
    "\n",
    "In particular, we will utilize **Proper Orthogonal Decomposition** (POD) in combination with two different regression techniques: **Radial Basis Function Interpolation** (POD-RBF) and **Neural Networks**(POD-NN) [2]. This process involves reducing the dimensionality of the parametric solution manifold through POD and then approximating it in the reduced space using a regression model (either a neural network or an RBF interpolation). In this example, we'll use a simple multilayer perceptron (MLP) as the regression model, but various architectures can be easily substituted.\n",
    "\n",
    "Let's start with the necessary imports."
   ]
  },
  {
   "cell_type": "code",
   "execution_count": null,
   "id": "00d1027d-13f2-4619-9ff7-a740568f13ff",
   "metadata": {},
   "outputs": [],
   "source": [
    "## routine needed to run the notebook on Google Colab\n",
    "try:\n",
    "    import google.colab\n",
    "\n",
    "    IN_COLAB = True\n",
    "except:\n",
    "    IN_COLAB = False\n",
    "if IN_COLAB:\n",
    "    !pip install \"pina-mathlab[tutorial]\"\n",
    "\n",
    "\n",
    "import matplotlib\n",
    "import matplotlib.pyplot as plt\n",
    "import torch\n",
    "import numpy as np\n",
    "import warnings\n",
    "\n",
    "from pina import Trainer\n",
    "from pina.model import FeedForward\n",
    "from pina.solver import SupervisedSolver\n",
    "from pina.optim import TorchOptimizer\n",
    "from pina.problem.zoo import SupervisedProblem\n",
    "from pina.model.block import PODBlock, RBFBlock\n",
    "\n",
    "warnings.filterwarnings(\"ignore\")"
   ]
  },
  {
   "cell_type": "markdown",
   "id": "5138afdf-bff6-46bf-b423-a22673190687",
   "metadata": {},
   "source": [
    "We utilize the [Smithers](https://github.com/mathLab/Smithers) library to gather the parametric snapshots. Specifically, we use the `NavierStokesDataset` class, which contains a collection of parametric solutions to the Navier-Stokes equations in a 2D L-shaped domain. The parameter in this case is the inflow velocity.\n",
    "\n",
    "The dataset comprises 500 snapshots of the velocity fields (along the $x$, $y$ axes, and the magnitude), as well as the pressure fields, along with their corresponding parameter values.\n",
    "\n",
    "To visually inspect the snapshots, let's also plot the data points alongside the reference solution. This reference solution represents the expected output of our model."
   ]
  },
  {
   "cell_type": "code",
   "execution_count": null,
   "id": "2c55d972-09a9-41de-9400-ba051c28cdcb",
   "metadata": {},
   "outputs": [],
   "source": [
    "from smithers.dataset import NavierStokesDataset\n",
    "\n",
    "dataset = NavierStokesDataset()\n",
    "\n",
    "fig, axs = plt.subplots(1, 4, figsize=(14, 3))\n",
    "for ax, p, u in zip(axs, dataset.params[:4], dataset.snapshots[\"mag(v)\"][:4]):\n",
    "    ax.tricontourf(dataset.triang, u, levels=16)\n",
    "    ax.set_title(f\"$\\mu$ = {p[0]:.2f}\")"
   ]
  },
  {
   "cell_type": "markdown",
   "id": "bef4d79d",
   "metadata": {},
   "source": [
    "The *snapshots*—i.e., the numerical solutions computed for several parameters—and the corresponding parameters are the only data we need to train the model, enabling us to predict the solution for any new test parameter. To properly validate the accuracy, we will split the 500 snapshots into the training dataset (90% of the original data) and the testing dataset (the remaining 10%) inside the `Trainer`.\n",
    "\n",
    "It is now time to define the problem!"
   ]
  },
  {
   "cell_type": "code",
   "execution_count": null,
   "id": "bd081bcd-192f-4370-a013-9b73050b5383",
   "metadata": {},
   "outputs": [],
   "source": [
    "u = torch.tensor(dataset.snapshots[\"mag(v)\"]).float()\n",
    "p = torch.tensor(dataset.params).float()\n",
    "problem = SupervisedProblem(input_=p, output_=u)"
   ]
  },
  {
   "cell_type": "markdown",
   "id": "3b255526",
   "metadata": {},
   "source": [
    "We can then build a `POD-NN` model (using an MLP architecture as approximation) and compare it with a `POD-RBF` model (using a Radial Basis Function interpolation as approximation).\n",
    "\n",
    "## POD-NN reduced order model\n",
    "Let's build the `PODNN` class"
   ]
  },
  {
   "cell_type": "code",
   "execution_count": null,
   "id": "2edc981a",
   "metadata": {},
   "outputs": [],
   "source": [
    "class PODNN(torch.nn.Module):\n",
    "    def __init__(self, pod_rank, layers, func):\n",
    "        super().__init__()\n",
    "        self.pod = PODBlock(pod_rank)\n",
    "        self.nn = FeedForward(\n",
    "            input_dimensions=1,\n",
    "            output_dimensions=pod_rank,\n",
    "            layers=layers,\n",
    "            func=func,\n",
    "        )\n",
    "\n",
    "    def forward(self, x):\n",
    "        coefficents = self.nn(x)\n",
    "        return self.pod.expand(coefficents)\n",
    "\n",
    "    def fit_pod(self, x):\n",
    "        self.pod.fit(x)"
   ]
  },
  {
   "cell_type": "markdown",
   "id": "9295214e",
   "metadata": {},
   "source": [
    "We highlight that the POD modes are directly computed by means of the singular value decomposition (SVD) over the input data, and not trained using the backpropagation approach. Only the weights of the MLP are actually trained during the optimization loop."
   ]
  },
  {
   "cell_type": "code",
   "execution_count": null,
   "id": "2166dc87",
   "metadata": {},
   "outputs": [],
   "source": [
    "pod_nn = PODNN(pod_rank=20, layers=[10, 10, 10], func=torch.nn.Tanh)\n",
    "pod_nn_stokes = SupervisedSolver(\n",
    "    problem=problem,\n",
    "    model=pod_nn,\n",
    "    optimizer=TorchOptimizer(torch.optim.Adam, lr=0.0001),\n",
    "    use_lt=False,\n",
    ")"
   ]
  },
  {
   "cell_type": "markdown",
   "id": "9bc5c5e8",
   "metadata": {},
   "source": [
    "Before starting, we need to fit the POD basis on the training dataset. This can be easily done in **PINA** as well:"
   ]
  },
  {
   "cell_type": "code",
   "execution_count": null,
   "id": "1f229d30",
   "metadata": {},
   "outputs": [],
   "source": [
    "trainer = Trainer(\n",
    "    solver=pod_nn_stokes,\n",
    "    max_epochs=1000,\n",
    "    batch_size=None,\n",
    "    accelerator=\"cpu\",\n",
    "    train_size=0.9,\n",
    "    val_size=0.0,\n",
    "    test_size=0.1,\n",
    ")\n",
    "\n",
    "# fit the pod basis\n",
    "trainer.data_module.setup(\"fit\")  # set up the dataset\n",
    "train_data = trainer.data_module.train_dataset.get_all_data()\n",
    "x_train = train_data[\"data\"][\"target\"]  # extract data for training\n",
    "pod_nn.fit_pod(x=x_train)\n",
    "\n",
    "# now train\n",
    "trainer.train()"
   ]
  },
  {
   "cell_type": "markdown",
   "id": "659e7b25",
   "metadata": {},
   "source": [
    "Done! Now that the computationally expensive part is over, we can load the model in the future to infer new parameters (simply by loading the checkpoint file automatically created by `Lightning`) or test its performances. We measure the relative error for both the training and test datasets, printing the mean error."
   ]
  },
  {
   "cell_type": "code",
   "execution_count": null,
   "id": "26c91385-5cd8-400a-90db-1c9f2afdf110",
   "metadata": {},
   "outputs": [],
   "source": [
    "# extract train and test data\n",
    "trainer.data_module.setup(\"test\")  # set up the dataset\n",
    "p_train = trainer.data_module.train_dataset.conditions_dict[\"data\"][\"input\"]\n",
    "u_train = trainer.data_module.train_dataset.conditions_dict[\"data\"][\"target\"]\n",
    "p_test = trainer.data_module.test_dataset.conditions_dict[\"data\"][\"input\"]\n",
    "u_test = trainer.data_module.test_dataset.conditions_dict[\"data\"][\"target\"]\n",
    "\n",
    "# compute statistics\n",
    "u_test_nn = pod_nn_stokes(p_test)\n",
    "u_train_nn = pod_nn_stokes(p_train)\n",
    "\n",
    "relative_error_train = torch.norm(u_train_nn - u_train) / torch.norm(u_train)\n",
    "relative_error_test = torch.norm(u_test_nn - u_test) / torch.norm(u_test)\n",
    "\n",
    "print(\"Error summary for POD-NN model:\")\n",
    "print(f\"  Train: {relative_error_train.item():e}\")\n",
    "print(f\"  Test:  {relative_error_test.item():e}\")"
   ]
  },
  {
   "cell_type": "markdown",
   "id": "352ac702",
   "metadata": {},
   "source": [
    "## POD-RBF Reduced Order Model\n",
    "\n",
    "Next, we define the model we want to use, incorporating the `PODBlock` and `RBFBlock` objects."
   ]
  },
  {
   "cell_type": "code",
   "execution_count": null,
   "id": "0bd2c30c",
   "metadata": {},
   "outputs": [],
   "source": [
    "class PODRBF(torch.nn.Module):\n",
    "    def __init__(self, pod_rank, rbf_kernel):\n",
    "        super().__init__()\n",
    "        self.pod = PODBlock(pod_rank)\n",
    "        self.rbf = RBFBlock(kernel=rbf_kernel)\n",
    "\n",
    "    def forward(self, x):\n",
    "        coefficents = self.rbf(x)\n",
    "        return self.pod.expand(coefficents)\n",
    "\n",
    "    def fit(self, p, x):\n",
    "        self.pod.fit(x)\n",
    "        self.rbf.fit(p, self.pod.reduce(x))"
   ]
  },
  {
   "cell_type": "markdown",
   "id": "4d2551ff",
   "metadata": {},
   "source": [
    "We can now fit the model and use it to predict the required field for unseen parameter values. Note that this model does not require a `Trainer` since it does not include any neural networks or learnable parameters."
   ]
  },
  {
   "cell_type": "code",
   "execution_count": null,
   "id": "af0a7f9b",
   "metadata": {},
   "outputs": [],
   "source": [
    "pod_rbf = PODRBF(pod_rank=20, rbf_kernel=\"thin_plate_spline\")\n",
    "pod_rbf.fit(p_train, u_train)"
   ]
  },
  {
   "cell_type": "markdown",
   "id": "6cd5df5f",
   "metadata": {},
   "source": [
    "Compute errors"
   ]
  },
  {
   "cell_type": "code",
   "execution_count": null,
   "id": "41a27834",
   "metadata": {},
   "outputs": [],
   "source": [
    "u_test_rbf = pod_rbf(p_test)\n",
    "u_train_rbf = pod_rbf(p_train)\n",
    "\n",
    "relative_error_train = torch.norm(u_train_rbf - u_train) / torch.norm(u_train)\n",
    "relative_error_test = torch.norm(u_test_rbf - u_test) / torch.norm(u_test)\n",
    "\n",
    "print(\"Error summary for POD-RBF model:\")\n",
    "print(f\"  Train: {relative_error_train.item():e}\")\n",
    "print(f\"  Test:  {relative_error_test.item():e}\")"
   ]
  },
  {
   "cell_type": "markdown",
   "id": "a0a14fdc",
   "metadata": {},
   "source": [
    "## POD-RBF vs POD-NN\n",
    "\n",
    "We can compare the solutions predicted by the `POD-RBF` and the `POD-NN` models with the original reference solution. By plotting these predicted solutions against the true solution, we can observe how each model performs.\n",
    "\n",
    "### Observations:\n",
    "- **POD-RBF**: The solution predicted by the `POD-RBF` model typically offers a smooth approximation for the parametric solution, as RBF interpolation is well-suited for capturing smooth variations.\n",
    "- **POD-NN**: The `POD-NN` model, while more flexible due to the neural network architecture, may show some discrepancies—especially for low velocities or in regions where the training data is sparse. However, with longer training times and adjustments in the network architecture, we can improve the predictions."
   ]
  },
  {
   "cell_type": "code",
   "execution_count": null,
   "id": "ed8bf2ce-9208-4395-9a64-42ac96006bc3",
   "metadata": {},
   "outputs": [],
   "source": [
    "idx = torch.randint(0, len(u_test), (4,))\n",
    "u_idx_rbf = pod_rbf(p_test[idx])\n",
    "u_idx_nn = pod_nn_stokes(p_test[idx])\n",
    "\n",
    "\n",
    "fig, axs = plt.subplots(4, 5, figsize=(14, 9))\n",
    "\n",
    "relative_error_rbf = np.abs(u_test[idx] - u_idx_rbf.detach())\n",
    "relative_error_rbf = np.where(\n",
    "    u_test[idx] < 1e-7, 1e-7, relative_error_rbf / u_test[idx]\n",
    ")\n",
    "\n",
    "relative_error_nn = np.abs(u_test[idx] - u_idx_nn.detach())\n",
    "relative_error_nn = np.where(\n",
    "    u_test[idx] < 1e-7, 1e-7, relative_error_nn / u_test[idx]\n",
    ")\n",
    "\n",
    "for i, (idx_, rbf_, nn_, rbf_err_, nn_err_) in enumerate(\n",
    "    zip(idx, u_idx_rbf, u_idx_nn, relative_error_rbf, relative_error_nn)\n",
    "):\n",
    "\n",
    "    axs[0, 0].set_title(f\"Real Snapshots\")\n",
    "    axs[0, 1].set_title(f\"POD-RBF\")\n",
    "    axs[0, 2].set_title(f\"POD-NN\")\n",
    "    axs[0, 3].set_title(f\"Error POD-RBF\")\n",
    "    axs[0, 4].set_title(f\"Error POD-NN\")\n",
    "\n",
    "    cm = axs[i, 0].tricontourf(\n",
    "        dataset.triang, rbf_.detach()\n",
    "    )  # POD-RBF prediction\n",
    "    plt.colorbar(cm, ax=axs[i, 0])\n",
    "\n",
    "    cm = axs[i, 1].tricontourf(\n",
    "        dataset.triang, nn_.detach()\n",
    "    )  # POD-NN prediction\n",
    "    plt.colorbar(cm, ax=axs[i, 1])\n",
    "\n",
    "    cm = axs[i, 2].tricontourf(dataset.triang, u_test[idx_].flatten())  # Truth\n",
    "    plt.colorbar(cm, ax=axs[i, 2])\n",
    "\n",
    "    cm = axs[i, 3].tripcolor(\n",
    "        dataset.triang, rbf_err_, norm=matplotlib.colors.LogNorm()\n",
    "    )  # Error for POD-RBF\n",
    "    plt.colorbar(cm, ax=axs[i, 3])\n",
    "\n",
    "    cm = axs[i, 4].tripcolor(\n",
    "        dataset.triang, nn_err_, norm=matplotlib.colors.LogNorm()\n",
    "    )  # Error for POD-NN\n",
    "    plt.colorbar(cm, ax=axs[i, 4])\n",
    "\n",
    "plt.show()"
   ]
  },
  {
   "cell_type": "markdown",
   "id": "49e51233",
   "metadata": {},
   "source": [
    "## What's Next?\n",
    "\n",
    "Congratulations on completing this tutorial using **PINA** to apply reduced order modeling techniques with **POD-RBF** and **POD-NN**! There are several directions you can explore next:\n",
    "\n",
    "1. **Extend to More Complex Problems**: Try using more complex parametric domains or PDEs. For example, you can explore Navier-Stokes equations in 3D or more complex boundary conditions.\n",
    "\n",
    "2. **Combine POD with Deep Learning Techniques**: Investigate hybrid methods, such as combining **POD-NN** with convolutional layers or recurrent layers, to handle time-dependent problems or more complex spatial dependencies.\n",
    "\n",
    "3. **Evaluate Performance on Larger Datasets**: Work with larger datasets to assess how well these methods scale. You may want to test on datasets from simulations or real-world problems.\n",
    "\n",
    "4. **Hybrid Models with Physics Informed Networks (PINN)**: Integrate **POD** models with PINN frameworks to include physics-based regularization in your model and improve predictions for more complex scenarios, such as turbulent fluid flow.\n",
    "\n",
    "5. **...and many more!**: The potential applications of reduced order models are vast, ranging from material science simulations to real-time predictions in engineering applications.\n",
    "\n",
    "For more information and advanced tutorials, refer to the [PINA Documentation](https://mathlab.github.io/PINA/).\n",
    "\n",
    "### References\n",
    "1. Rozza G., Stabile G., Ballarin F. (2022). Advanced Reduced Order Methods and Applications in Computational Fluid Dynamics, Society for Industrial and Applied Mathematics. \n",
    "2. Hesthaven, J. S., & Ubbiali, S. (2018). Non-intrusive reduced order modeling of nonlinear problems using neural networks. Journal of Computational Physics, 363, 55-78."
   ]
  }
 ],
 "metadata": {
  "kernelspec": {
   "display_name": "pina",
   "language": "python",
   "name": "python3"
  },
  "language_info": {
   "codemirror_mode": {
    "name": "ipython",
    "version": 3
   },
   "file_extension": ".py",
   "mimetype": "text/x-python",
   "name": "python",
   "nbconvert_exporter": "python",
   "pygments_lexer": "ipython3",
   "version": "3.9.21"
  }
 },
 "nbformat": 4,
 "nbformat_minor": 5
}
