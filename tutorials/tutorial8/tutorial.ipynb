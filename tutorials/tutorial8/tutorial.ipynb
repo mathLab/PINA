{
 "cells": [
  {
   "attachments": {},
   "cell_type": "markdown",
   "metadata": {},
   "source": [
    "# Tutorial: Advection Equation with DeepONet neural operator\n",
    "\n",
    "In this tutorial we will show how to solve a neural operator problem using `DeepONet`. Specifically, ....\n",
    "\n",
    "We import the relevant modules first."
   ]
  },
  {
   "cell_type": "code",
   "execution_count": 62,
   "metadata": {},
   "outputs": [],
   "source": [
    "import matplotlib.pyplot as plt\n",
    "from pina.geometry import CartesianDomain\n",
    "from pina import LabelTensor, Trainer, Condition\n",
    "from pina.equation import Equation\n",
    "from pina.problem import TimeDependentProblem, SpatialProblem\n",
    "import torch\n"
   ]
  },
  {
   "cell_type": "markdown",
   "metadata": {},
   "source": [
    "## Generating the data\n",
    "\n",
    "We first generate the data we will use for training."
   ]
  },
  {
   "cell_type": "code",
   "execution_count": 85,
   "metadata": {},
   "outputs": [],
   "source": [
    "# fixing mu ~ U[0.05, 1], and sigma=0.0002\n",
    "r1 = 0.05\n",
    "r2 = 1.\n",
    "mu = (r1 - r2) * torch.rand(1) + r2\n",
    "sigma = torch.tensor([0.0002])\n",
    "\n",
    "# initial condition\n",
    "def initial_condition(pts):\n",
    "    return torch.exp(-(pts - mu)**2 / sigma) * (sigma * torch.pi) ** (-0.5)\n",
    "\n",
    "def solution(pts, t):\n",
    "    return torch.stack([pts, t.repeat(pts.shape, 1), initial_condition(pts - t)]).T\n",
    "\n",
    "def compute_solution(pts, times):\n",
    "    # fixing mu ~ U[0.05, 1], and sigma=0.0002\n",
    "    mu = (0.05 - 1) * torch.rand(1) + 1\n",
    "    sigma = torch.tensor([0.0002])\n",
    "    # compute solution for each timestep\n",
    "    solutions = torch.stack([solution(pts, t) for t in times])\n",
    "    \n",
    "    return solutions\n"
   ]
  },
  {
   "cell_type": "code",
   "execution_count": 94,
   "metadata": {},
   "outputs": [],
   "source": [
    "t = torch.linspace(0, 1, 100)\n",
    "x = torch.linspace(0, 2, 256)\n",
    "solutions = LabelTensor(torch.stack([compute_solution(x, t) for _ in range(1000)]), ['x', 't', 'u'])"
   ]
  },
  {
   "cell_type": "code",
   "execution_count": 112,
   "metadata": {},
   "outputs": [
    {
     "data": {
      "text/plain": [
       "torch.Size([1000, 100, 256, 1])"
      ]
     },
     "execution_count": 112,
     "metadata": {},
     "output_type": "execute_result"
    }
   ],
   "source": [
    "solutions.extract(['u']).shape"
   ]
  },
  {
   "cell_type": "code",
   "execution_count": null,
   "metadata": {},
   "outputs": [],
   "source": [
    "class AdvectionProblem(SpatialProblem, TimeDependentProblem):\n",
    "\n",
    "    output_variables = ['u']\n",
    "    input_variables = ['x', 't']\n",
    "\n",
    "    # define initial condition\n",
    "    def initial_condition(input_, output_):\n",
    "        u_expected = -torch.sin(torch.pi*input_.extract(['x']))\n",
    "        return output_.extract(['u']) - u_expected\n",
    "\n",
    "    # assign output/ spatial and temporal variables\n",
    "    output_variables = ['u']\n",
    "    spatial_domain = CartesianDomain({'x': [-1, 1]})\n",
    "    temporal_domain = CartesianDomain({'t': [0, 1]})\n",
    "\n",
    "    # problem condition statement\n",
    "    conditions = {\n",
    "        'data': Condition(input_pts = ),\n",
    "    }"
   ]
  }
 ],
 "metadata": {
  "kernelspec": {
   "display_name": "Python 3 (ipykernel)",
   "language": "python",
   "name": "python3"
  },
  "language_info": {
   "codemirror_mode": {
    "name": "ipython",
    "version": 3
   },
   "file_extension": ".py",
   "mimetype": "text/x-python",
   "name": "python",
   "nbconvert_exporter": "python",
   "pygments_lexer": "ipython3",
   "version": "3.9.16"
  }
 },
 "nbformat": 4,
 "nbformat_minor": 4
}
